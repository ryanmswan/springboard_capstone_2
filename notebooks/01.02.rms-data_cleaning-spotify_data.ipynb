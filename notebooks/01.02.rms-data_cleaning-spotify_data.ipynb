{
 "cells": [
  {
   "cell_type": "code",
   "execution_count": 75,
   "metadata": {},
   "outputs": [],
   "source": [
    "import pickle\n",
    "import pandas as pd\n",
    "import matplotlib.pyplot as plt"
   ]
  },
  {
   "cell_type": "code",
   "execution_count": 8,
   "metadata": {},
   "outputs": [],
   "source": [
    "data = pickle.load(open('../src/data/chartmetric.pickle', 'rb'))"
   ]
  },
  {
   "cell_type": "code",
   "execution_count": 11,
   "metadata": {},
   "outputs": [],
   "source": [
    "data = pd.DataFrame(data)"
   ]
  },
  {
   "cell_type": "code",
   "execution_count": 22,
   "metadata": {},
   "outputs": [],
   "source": [
    "lyric = pickle.load(open('../data/processed/lyric_full.pickle', 'rb'))"
   ]
  },
  {
   "cell_type": "code",
   "execution_count": 25,
   "metadata": {},
   "outputs": [],
   "source": [
    "merged = pd.merge(lyric, data, left_on=['artist','song'], right_on=['artist','song_name'])"
   ]
  },
  {
   "cell_type": "code",
   "execution_count": 26,
   "metadata": {},
   "outputs": [
    {
     "data": {
      "text/html": [
       "<div>\n",
       "<style scoped>\n",
       "    .dataframe tbody tr th:only-of-type {\n",
       "        vertical-align: middle;\n",
       "    }\n",
       "\n",
       "    .dataframe tbody tr th {\n",
       "        vertical-align: top;\n",
       "    }\n",
       "\n",
       "    .dataframe thead th {\n",
       "        text-align: right;\n",
       "    }\n",
       "</style>\n",
       "<table border=\"1\" class=\"dataframe\">\n",
       "  <thead>\n",
       "    <tr style=\"text-align: right;\">\n",
       "      <th></th>\n",
       "      <th>artist</th>\n",
       "      <th>song</th>\n",
       "      <th>year</th>\n",
       "      <th>lyric</th>\n",
       "      <th>song_name</th>\n",
       "      <th>genre</th>\n",
       "    </tr>\n",
       "  </thead>\n",
       "  <tbody>\n",
       "    <tr>\n",
       "      <th>0</th>\n",
       "      <td>A Band of Bitches</td>\n",
       "      <td>Guerra Nuclear</td>\n",
       "      <td>2012.0</td>\n",
       "      <td>Y tiraste las bombas y rompiste el alcohol \\nY...</td>\n",
       "      <td>Guerra Nuclear</td>\n",
       "      <td>None</td>\n",
       "    </tr>\n",
       "    <tr>\n",
       "      <th>1</th>\n",
       "      <td>A Band of Bitches</td>\n",
       "      <td>Guerra Nuclear</td>\n",
       "      <td>2012.0</td>\n",
       "      <td>Y tiraste las bombas y rompiste el alcohol \\nY...</td>\n",
       "      <td>Guerra Nuclear</td>\n",
       "      <td>Pop Latino,Music,Latino,Rock y Alternativo</td>\n",
       "    </tr>\n",
       "    <tr>\n",
       "      <th>2</th>\n",
       "      <td>A Band of Bitches</td>\n",
       "      <td>A Band of Bitches</td>\n",
       "      <td>2012.0</td>\n",
       "      <td>A band of bitches stole my car\\r\\nA band of bi...</td>\n",
       "      <td>A Band of Bitches</td>\n",
       "      <td>None</td>\n",
       "    </tr>\n",
       "    <tr>\n",
       "      <th>3</th>\n",
       "      <td>A Band of Bitches</td>\n",
       "      <td>Noreste Caliente</td>\n",
       "      <td>2012.0</td>\n",
       "      <td>None</td>\n",
       "      <td>Noreste Caliente</td>\n",
       "      <td>Pop Latino,Music,Latino</td>\n",
       "    </tr>\n",
       "    <tr>\n",
       "      <th>4</th>\n",
       "      <td>A Band of Bitches</td>\n",
       "      <td>Noreste Caliente</td>\n",
       "      <td>2012.0</td>\n",
       "      <td>None</td>\n",
       "      <td>Noreste Caliente</td>\n",
       "      <td>Alternative,Music,Pop Latino,Music,Latino,Rock...</td>\n",
       "    </tr>\n",
       "  </tbody>\n",
       "</table>\n",
       "</div>"
      ],
      "text/plain": [
       "              artist               song    year  \\\n",
       "0  A Band of Bitches     Guerra Nuclear  2012.0   \n",
       "1  A Band of Bitches     Guerra Nuclear  2012.0   \n",
       "2  A Band of Bitches  A Band of Bitches  2012.0   \n",
       "3  A Band of Bitches   Noreste Caliente  2012.0   \n",
       "4  A Band of Bitches   Noreste Caliente  2012.0   \n",
       "\n",
       "                                               lyric          song_name  \\\n",
       "0  Y tiraste las bombas y rompiste el alcohol \\nY...     Guerra Nuclear   \n",
       "1  Y tiraste las bombas y rompiste el alcohol \\nY...     Guerra Nuclear   \n",
       "2  A band of bitches stole my car\\r\\nA band of bi...  A Band of Bitches   \n",
       "3                                               None   Noreste Caliente   \n",
       "4                                               None   Noreste Caliente   \n",
       "\n",
       "                                               genre  \n",
       "0                                               None  \n",
       "1         Pop Latino,Music,Latino,Rock y Alternativo  \n",
       "2                                               None  \n",
       "3                            Pop Latino,Music,Latino  \n",
       "4  Alternative,Music,Pop Latino,Music,Latino,Rock...  "
      ]
     },
     "execution_count": 26,
     "metadata": {},
     "output_type": "execute_result"
    }
   ],
   "source": [
    "merged.head()"
   ]
  },
  {
   "cell_type": "code",
   "execution_count": 35,
   "metadata": {},
   "outputs": [],
   "source": [
    "is_genre_null = merged.genre.isnull()\n",
    "is_lyric_null = merged.lyric.isnull()\n",
    "\n",
    "merged = merged[~is_genre_null & ~is_lyric_null]"
   ]
  },
  {
   "cell_type": "code",
   "execution_count": 36,
   "metadata": {},
   "outputs": [
    {
     "data": {
      "text/plain": [
       "(374242, 6)"
      ]
     },
     "execution_count": 36,
     "metadata": {},
     "output_type": "execute_result"
    }
   ],
   "source": [
    "merged.shape"
   ]
  },
  {
   "cell_type": "code",
   "execution_count": 37,
   "metadata": {},
   "outputs": [
    {
     "data": {
      "text/html": [
       "<div>\n",
       "<style scoped>\n",
       "    .dataframe tbody tr th:only-of-type {\n",
       "        vertical-align: middle;\n",
       "    }\n",
       "\n",
       "    .dataframe tbody tr th {\n",
       "        vertical-align: top;\n",
       "    }\n",
       "\n",
       "    .dataframe thead th {\n",
       "        text-align: right;\n",
       "    }\n",
       "</style>\n",
       "<table border=\"1\" class=\"dataframe\">\n",
       "  <thead>\n",
       "    <tr style=\"text-align: right;\">\n",
       "      <th></th>\n",
       "      <th>artist</th>\n",
       "      <th>song</th>\n",
       "      <th>year</th>\n",
       "      <th>lyric</th>\n",
       "      <th>song_name</th>\n",
       "      <th>genre</th>\n",
       "    </tr>\n",
       "  </thead>\n",
       "  <tbody>\n",
       "    <tr>\n",
       "      <th>1</th>\n",
       "      <td>A Band of Bitches</td>\n",
       "      <td>Guerra Nuclear</td>\n",
       "      <td>2012.0</td>\n",
       "      <td>Y tiraste las bombas y rompiste el alcohol \\nY...</td>\n",
       "      <td>Guerra Nuclear</td>\n",
       "      <td>Pop Latino,Music,Latino,Rock y Alternativo</td>\n",
       "    </tr>\n",
       "    <tr>\n",
       "      <th>7</th>\n",
       "      <td>A Boy and His Kite</td>\n",
       "      <td>Cover Your Tracks</td>\n",
       "      <td>2012.0</td>\n",
       "      <td>Heart, cover your tracks\\nThe blood that you s...</td>\n",
       "      <td>Cover Your Tracks</td>\n",
       "      <td>Alternative,Music</td>\n",
       "    </tr>\n",
       "    <tr>\n",
       "      <th>8</th>\n",
       "      <td>A Breach of Silence</td>\n",
       "      <td>Falling Away</td>\n",
       "      <td>2017.0</td>\n",
       "      <td>We are bringing the system down. \\nLight the f...</td>\n",
       "      <td>Falling Away</td>\n",
       "      <td>Metal,Music,Rock</td>\n",
       "    </tr>\n",
       "    <tr>\n",
       "      <th>20</th>\n",
       "      <td>A Breach of Silence</td>\n",
       "      <td>T.P.N.E.</td>\n",
       "      <td>2014.0</td>\n",
       "      <td>TPNE the party never ends! TPNE the party neve...</td>\n",
       "      <td>T.P.N.E.</td>\n",
       "      <td>Metal,Music,Rock</td>\n",
       "    </tr>\n",
       "    <tr>\n",
       "      <th>21</th>\n",
       "      <td>A Breach of Silence</td>\n",
       "      <td>The Darkest Road</td>\n",
       "      <td>2014.0</td>\n",
       "      <td>It's not enough to know I'm breathing.\\nI've g...</td>\n",
       "      <td>The Darkest Road</td>\n",
       "      <td>Metal,Music,Rock</td>\n",
       "    </tr>\n",
       "  </tbody>\n",
       "</table>\n",
       "</div>"
      ],
      "text/plain": [
       "                 artist               song    year  \\\n",
       "1     A Band of Bitches     Guerra Nuclear  2012.0   \n",
       "7    A Boy and His Kite  Cover Your Tracks  2012.0   \n",
       "8   A Breach of Silence       Falling Away  2017.0   \n",
       "20  A Breach of Silence           T.P.N.E.  2014.0   \n",
       "21  A Breach of Silence   The Darkest Road  2014.0   \n",
       "\n",
       "                                                lyric          song_name  \\\n",
       "1   Y tiraste las bombas y rompiste el alcohol \\nY...     Guerra Nuclear   \n",
       "7   Heart, cover your tracks\\nThe blood that you s...  Cover Your Tracks   \n",
       "8   We are bringing the system down. \\nLight the f...       Falling Away   \n",
       "20  TPNE the party never ends! TPNE the party neve...           T.P.N.E.   \n",
       "21  It's not enough to know I'm breathing.\\nI've g...   The Darkest Road   \n",
       "\n",
       "                                         genre  \n",
       "1   Pop Latino,Music,Latino,Rock y Alternativo  \n",
       "7                            Alternative,Music  \n",
       "8                             Metal,Music,Rock  \n",
       "20                            Metal,Music,Rock  \n",
       "21                            Metal,Music,Rock  "
      ]
     },
     "execution_count": 37,
     "metadata": {},
     "output_type": "execute_result"
    }
   ],
   "source": [
    "merged.head()"
   ]
  },
  {
   "cell_type": "code",
   "execution_count": 43,
   "metadata": {},
   "outputs": [],
   "source": [
    "merged.genre = merged.genre.str.split(',')"
   ]
  },
  {
   "cell_type": "code",
   "execution_count": 46,
   "metadata": {},
   "outputs": [],
   "source": [
    "merged_long = merged.explode('genre')"
   ]
  },
  {
   "cell_type": "code",
   "execution_count": 51,
   "metadata": {},
   "outputs": [
    {
     "data": {
      "text/plain": [
       "Music                318067\n",
       "Rock                 150353\n",
       "Pop                  108027\n",
       "Alternative           51448\n",
       "Jazz                  50831\n",
       "Hip-Hop/Rap           41703\n",
       "Country               37578\n",
       "R&B/Soul              37472\n",
       "Música                36836\n",
       "Adult Alternative     25096\n",
       "Pop/Rock              23930\n",
       "Singer/Songwriter     23870\n",
       "Dance                 21173\n",
       "Metal                 20409\n",
       "Latino                19477\n",
       "Vocal                 18534\n",
       "Blues                 18285\n",
       "Electronic            16200\n",
       "Hard Rock             15242\n",
       "Musik                 14812\n",
       "Name: genre, dtype: int64"
      ]
     },
     "execution_count": 51,
     "metadata": {},
     "output_type": "execute_result"
    }
   ],
   "source": [
    "merged_long.genre.value_counts()[:20]"
   ]
  },
  {
   "cell_type": "code",
   "execution_count": 68,
   "metadata": {},
   "outputs": [],
   "source": [
    "genre_set = ['Rock', 'Pop','Jazz', 'Hip-Hop/Rap', 'Country', 'R&B/Soul', 'Electronic']\n",
    "\n",
    "test = merged_long[merged_long.genre.isin(genre_set)]"
   ]
  },
  {
   "cell_type": "code",
   "execution_count": 78,
   "metadata": {
    "scrolled": true
   },
   "outputs": [
    {
     "data": {
      "text/plain": [
       "<matplotlib.axes._subplots.AxesSubplot at 0x150860d90>"
      ]
     },
     "execution_count": 78,
     "metadata": {},
     "output_type": "execute_result"
    },
    {
     "data": {
      "image/png": "[encoded data removed]",
      "text/plain": [
       "<Figure size 432x288 with 1 Axes>"
      ]
     },
     "metadata": {
      "needs_background": "light"
     },
     "output_type": "display_data"
    }
   ],
   "source": [
    "genre_counts = test.groupby(['artist','song']).genre.count()\n",
    "\n",
    "genre_counts.hist(bins=100)"
   ]
  },
  {
   "cell_type": "code",
   "execution_count": 79,
   "metadata": {},
   "outputs": [
    {
     "data": {
      "text/plain": [
       "1      75419\n",
       "2      49920\n",
       "3      15947\n",
       "4      14961\n",
       "6       6084\n",
       "       ...  \n",
       "132        1\n",
       "83         1\n",
       "41         1\n",
       "90         1\n",
       "96         1\n",
       "Name: genre, Length: 73, dtype: int64"
      ]
     },
     "execution_count": 79,
     "metadata": {},
     "output_type": "execute_result"
    }
   ],
   "source": [
    "genre_counts.value_counts()"
   ]
  },
  {
   "cell_type": "code",
   "execution_count": null,
   "metadata": {},
   "outputs": [],
   "source": []
  }
 ],
 "metadata": {
  "kernelspec": {
   "display_name": "Python 3",
   "language": "python",
   "name": "python3"
  },
  "language_info": {
   "codemirror_mode": {
    "name": "ipython",
    "version": 3
   },
   "file_extension": ".py",
   "mimetype": "text/x-python",
   "name": "python",
   "nbconvert_exporter": "python",
   "pygments_lexer": "ipython3",
   "version": "3.7.5"
  }
 },
 "nbformat": 4,
 "nbformat_minor": 2
}
