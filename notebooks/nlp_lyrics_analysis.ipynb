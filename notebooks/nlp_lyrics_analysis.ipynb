{
 "cells": [
  {
   "cell_type": "code",
   "execution_count": 2,
   "metadata": {},
   "outputs": [],
   "source": [
    "import sqlalchemy\n",
    "import pandas as pd\n",
    "from sqlalchemy import text, select\n",
    "import matplotlib.pyplot as plt\n",
    "from tqdm.notebook import tqdm\n",
    "from math import log"
   ]
  },
  {
   "cell_type": "code",
   "execution_count": 3,
   "metadata": {},
   "outputs": [],
   "source": [
    "from sqlalchemy import create_engine, Table, Column\n",
    "from sqlalchemy import Integer, String, Text, MetaData\n",
    "\n",
    "engine = create_engine('sqlite:///../data/raw/lyrics.db', echo=False)\n",
    "\n",
    "meta = MetaData()\n",
    "\n",
    "artists = Table('artists', meta,\n",
    "                Column('artist', String, primary_key=True),\n",
    "                Column('artist_url', String))\n",
    "\n",
    "lyrics = Table('lyrics', meta,\n",
    "               Column('artist', String),\n",
    "               Column('song_title', String),\n",
    "               Column('year', Integer),\n",
    "               Column('song_url', String, primary_key=True),\n",
    "               Column('lyrics', Text))\n",
    "\n",
    "genres = Table('genre', meta,\n",
    "               Column('id', Integer, primary_key=True, autoincrement=True),\n",
    "               Column('song_url', String),\n",
    "               Column('genre', String))\n",
    "\n",
    "styles = Table('style', meta,\n",
    "               Column('id', Integer, primary_key=True, autoincrement=True),\n",
    "               Column('song_url', String),\n",
    "               Column('style', String))\n",
    "\n",
    "if __name__ == '__main__':\n",
    "    meta.create_all(engine)\n"
   ]
  },
  {
   "cell_type": "code",
   "execution_count": 4,
   "metadata": {},
   "outputs": [],
   "source": [
    "conn = engine.connect()"
   ]
  },
  {
   "cell_type": "code",
   "execution_count": 5,
   "metadata": {},
   "outputs": [],
   "source": [
    "query = text('SELECT * FROM lyrics')\n",
    "artists = conn.execute(query).fetchall()\n",
    "data = pd.DataFrame(artists)\n",
    "data.columns = ['artist', 'song', 'year', 'url', 'lyric']\n",
    "data_url = data.copy()\n",
    "data = data.drop(labels='url', axis=1)"
   ]
  },
  {
   "cell_type": "code",
   "execution_count": 6,
   "metadata": {},
   "outputs": [
    {
     "data": {
      "text/plain": [
       "382600"
      ]
     },
     "execution_count": 6,
     "metadata": {},
     "output_type": "execute_result"
    }
   ],
   "source": [
    "data.lyric.isna().sum()"
   ]
  },
  {
   "cell_type": "code",
   "execution_count": 7,
   "metadata": {},
   "outputs": [
    {
     "data": {
      "text/html": [
       "<div>\n",
       "<style scoped>\n",
       "    .dataframe tbody tr th:only-of-type {\n",
       "        vertical-align: middle;\n",
       "    }\n",
       "\n",
       "    .dataframe tbody tr th {\n",
       "        vertical-align: top;\n",
       "    }\n",
       "\n",
       "    .dataframe thead th {\n",
       "        text-align: right;\n",
       "    }\n",
       "</style>\n",
       "<table border=\"1\" class=\"dataframe\">\n",
       "  <thead>\n",
       "    <tr style=\"text-align: right;\">\n",
       "      <th></th>\n",
       "      <th>artist</th>\n",
       "      <th>song</th>\n",
       "      <th>year</th>\n",
       "      <th>lyric</th>\n",
       "    </tr>\n",
       "  </thead>\n",
       "  <tbody>\n",
       "    <tr>\n",
       "      <th>0</th>\n",
       "      <td>A B</td>\n",
       "      <td>Con el Tic Tac del Reloj</td>\n",
       "      <td>2000.0</td>\n",
       "      <td>Era tan facil soÃ±ar\\r\\nQue te podias quedar\\r...</td>\n",
       "    </tr>\n",
       "    <tr>\n",
       "      <th>1</th>\n",
       "      <td>A Band Called \"O\"</td>\n",
       "      <td>Sleeping</td>\n",
       "      <td>1975.0</td>\n",
       "      <td>None</td>\n",
       "    </tr>\n",
       "    <tr>\n",
       "      <th>2</th>\n",
       "      <td>A Band Called \"O\"</td>\n",
       "      <td>Take Your Time</td>\n",
       "      <td>1975.0</td>\n",
       "      <td>None</td>\n",
       "    </tr>\n",
       "    <tr>\n",
       "      <th>3</th>\n",
       "      <td>A Band Called David</td>\n",
       "      <td>Another Try</td>\n",
       "      <td>1977.0</td>\n",
       "      <td>How have You been? Lovely to see You,\\nMy how ...</td>\n",
       "    </tr>\n",
       "    <tr>\n",
       "      <th>4</th>\n",
       "      <td>A Band Called David</td>\n",
       "      <td>Just the Same</td>\n",
       "      <td>1977.0</td>\n",
       "      <td>None</td>\n",
       "    </tr>\n",
       "  </tbody>\n",
       "</table>\n",
       "</div>"
      ],
      "text/plain": [
       "                artist                      song    year  \\\n",
       "0                  A B  Con el Tic Tac del Reloj  2000.0   \n",
       "1    A Band Called \"O\"                  Sleeping  1975.0   \n",
       "2    A Band Called \"O\"            Take Your Time  1975.0   \n",
       "3  A Band Called David               Another Try  1977.0   \n",
       "4  A Band Called David             Just the Same  1977.0   \n",
       "\n",
       "                                               lyric  \n",
       "0  Era tan facil soÃ±ar\\r\\nQue te podias quedar\\r...  \n",
       "1                                               None  \n",
       "2                                               None  \n",
       "3  How have You been? Lovely to see You,\\nMy how ...  \n",
       "4                                               None  "
      ]
     },
     "execution_count": 7,
     "metadata": {},
     "output_type": "execute_result"
    }
   ],
   "source": [
    "data.head()"
   ]
  },
  {
   "cell_type": "code",
   "execution_count": 8,
   "metadata": {},
   "outputs": [
    {
     "data": {
      "text/plain": [
       "1250843"
      ]
     },
     "execution_count": 8,
     "metadata": {},
     "output_type": "execute_result"
    }
   ],
   "source": [
    "len(data)"
   ]
  },
  {
   "cell_type": "code",
   "execution_count": 9,
   "metadata": {},
   "outputs": [
    {
     "data": {
      "text/plain": [
       "116773"
      ]
     },
     "execution_count": 9,
     "metadata": {},
     "output_type": "execute_result"
    }
   ],
   "source": [
    "len(data.artist.unique())"
   ]
  },
  {
   "cell_type": "code",
   "execution_count": 10,
   "metadata": {
    "scrolled": true
   },
   "outputs": [
    {
     "data": {
      "text/plain": [
       "NO LYRICS FOUND                                       15574\n",
       "St. Louis Blues                                        1018\n",
       "Body and Soul                                          1014\n",
       "Stardust                                                990\n",
       "Over the Rainbow                                        954\n",
       "Intro                                                   951\n",
       "Have Yourself a Merry Little Christmas                  901\n",
       "Embraceable You                                         780\n",
       "The Nearness of You                                     633\n",
       "Skylark                                                 614\n",
       "After You've Gone                                       606\n",
       "O Little Town of Bethlehem                              602\n",
       "My Foolish Heart                                        595\n",
       "Laura                                                   593\n",
       "In a Sentimental Mood                                   593\n",
       "I'll Remember April                                     577\n",
       "You Don't Know What Love Is                             571\n",
       "Here's That Rainy Day                                   570\n",
       "Caravan                                                 567\n",
       "Danny Boy                                               565\n",
       "But Not for Me                                          561\n",
       "Speak Low                                               557\n",
       "The Little Drummer Boy                                  556\n",
       "On the Sunny Side of the Street                         555\n",
       "Ain't Misbehavin'                                       540\n",
       "Santa Claus Is Coming to Town                           539\n",
       "How High the Moon                                       536\n",
       "Blue Moon                                               521\n",
       "Love Is Here to Stay                                    519\n",
       "How Deep Is the Ocean?                                  517\n",
       "These Foolish Things                                    512\n",
       "Silent Night                                            508\n",
       "Mood Indigo                                             502\n",
       "You'd Be So Nice to Come Home To                        483\n",
       "Oh, Lady Be Good                                        482\n",
       "I've Got You Under My Skin                              481\n",
       "White Christmas                                         479\n",
       "Where or When                                           473\n",
       "The Christmas Song                                      470\n",
       "Bye Bye Blackbird                                       469\n",
       "My One and Only Love                                    463\n",
       "Someone to Watch Over Me                                449\n",
       "It Might as Well Be Spring                              446\n",
       "Begin the Beguine                                       445\n",
       "It Came Upon a Midnight Clear                           443\n",
       "I Can't Give You Anything But Love                      442\n",
       "Prelude to a Kiss                                       441\n",
       "Let It Snow! Let It Snow! Let It Snow!                  440\n",
       "It Don't Mean a Thing (If It Ain't Got That Swing)      440\n",
       "But Beautiful                                           434\n",
       "Name: song, dtype: int64"
      ]
     },
     "execution_count": 10,
     "metadata": {},
     "output_type": "execute_result"
    }
   ],
   "source": [
    "data.song.value_counts().head(50)"
   ]
  },
  {
   "cell_type": "code",
   "execution_count": 11,
   "metadata": {},
   "outputs": [],
   "source": [
    "stl_blues = data[data.song == 'St. Louis Blues']"
   ]
  },
  {
   "cell_type": "code",
   "execution_count": 12,
   "metadata": {},
   "outputs": [
    {
     "data": {
      "text/html": [
       "<div>\n",
       "<style scoped>\n",
       "    .dataframe tbody tr th:only-of-type {\n",
       "        vertical-align: middle;\n",
       "    }\n",
       "\n",
       "    .dataframe tbody tr th {\n",
       "        vertical-align: top;\n",
       "    }\n",
       "\n",
       "    .dataframe thead th {\n",
       "        text-align: right;\n",
       "    }\n",
       "</style>\n",
       "<table border=\"1\" class=\"dataframe\">\n",
       "  <thead>\n",
       "    <tr style=\"text-align: right;\">\n",
       "      <th></th>\n",
       "      <th>artist</th>\n",
       "      <th>song</th>\n",
       "      <th>year</th>\n",
       "      <th>lyric</th>\n",
       "    </tr>\n",
       "  </thead>\n",
       "  <tbody>\n",
       "    <tr>\n",
       "      <th>694232</th>\n",
       "      <td>Louis Armstrong &amp; His Orchestra</td>\n",
       "      <td>St. Louis Blues</td>\n",
       "      <td>1934.0</td>\n",
       "      <td>I hate to see\\nThe evening sun go down\\nI hate...</td>\n",
       "    </tr>\n",
       "    <tr>\n",
       "      <th>767002</th>\n",
       "      <td>Miff Mole</td>\n",
       "      <td>St. Louis Blues</td>\n",
       "      <td>1944.0</td>\n",
       "      <td>I hate to see that evening sun go down\\nI hate...</td>\n",
       "    </tr>\n",
       "    <tr>\n",
       "      <th>305119</th>\n",
       "      <td>Don Byas</td>\n",
       "      <td>St. Louis Blues</td>\n",
       "      <td>1949.0</td>\n",
       "      <td>I hate to see that evening sun go down\\nI hate...</td>\n",
       "    </tr>\n",
       "    <tr>\n",
       "      <th>992360</th>\n",
       "      <td>Sidney Bechet</td>\n",
       "      <td>St. Louis Blues</td>\n",
       "      <td>1950.0</td>\n",
       "      <td>None</td>\n",
       "    </tr>\n",
       "    <tr>\n",
       "      <th>18501</th>\n",
       "      <td>Albert Ammons</td>\n",
       "      <td>St. Louis Blues</td>\n",
       "      <td>1950.0</td>\n",
       "      <td>None</td>\n",
       "    </tr>\n",
       "    <tr>\n",
       "      <th>...</th>\n",
       "      <td>...</td>\n",
       "      <td>...</td>\n",
       "      <td>...</td>\n",
       "      <td>...</td>\n",
       "    </tr>\n",
       "    <tr>\n",
       "      <th>944790</th>\n",
       "      <td>Roscoe Holcomb</td>\n",
       "      <td>St. Louis Blues</td>\n",
       "      <td>NaN</td>\n",
       "      <td>I hate to see that evening sun go down\\r\\nI ha...</td>\n",
       "    </tr>\n",
       "    <tr>\n",
       "      <th>973660</th>\n",
       "      <td>Scott Hamilton</td>\n",
       "      <td>St. Louis Blues</td>\n",
       "      <td>NaN</td>\n",
       "      <td>None</td>\n",
       "    </tr>\n",
       "    <tr>\n",
       "      <th>1047489</th>\n",
       "      <td>Syd Lawrence Orchestra</td>\n",
       "      <td>St. Louis Blues</td>\n",
       "      <td>NaN</td>\n",
       "      <td>I hate to see that evening sun go down\\r\\nI ha...</td>\n",
       "    </tr>\n",
       "    <tr>\n",
       "      <th>1114872</th>\n",
       "      <td>The Metronome All-Stars</td>\n",
       "      <td>St. Louis Blues</td>\n",
       "      <td>NaN</td>\n",
       "      <td>None</td>\n",
       "    </tr>\n",
       "    <tr>\n",
       "      <th>1209428</th>\n",
       "      <td>W.C. Handy Orchestra</td>\n",
       "      <td>St. Louis Blues</td>\n",
       "      <td>NaN</td>\n",
       "      <td>None</td>\n",
       "    </tr>\n",
       "  </tbody>\n",
       "</table>\n",
       "<p>1018 rows × 4 columns</p>\n",
       "</div>"
      ],
      "text/plain": [
       "                                  artist             song    year  \\\n",
       "694232   Louis Armstrong & His Orchestra  St. Louis Blues  1934.0   \n",
       "767002                         Miff Mole  St. Louis Blues  1944.0   \n",
       "305119                          Don Byas  St. Louis Blues  1949.0   \n",
       "992360                     Sidney Bechet  St. Louis Blues  1950.0   \n",
       "18501                      Albert Ammons  St. Louis Blues  1950.0   \n",
       "...                                  ...              ...     ...   \n",
       "944790                    Roscoe Holcomb  St. Louis Blues     NaN   \n",
       "973660                    Scott Hamilton  St. Louis Blues     NaN   \n",
       "1047489           Syd Lawrence Orchestra  St. Louis Blues     NaN   \n",
       "1114872          The Metronome All-Stars  St. Louis Blues     NaN   \n",
       "1209428             W.C. Handy Orchestra  St. Louis Blues     NaN   \n",
       "\n",
       "                                                     lyric  \n",
       "694232   I hate to see\\nThe evening sun go down\\nI hate...  \n",
       "767002   I hate to see that evening sun go down\\nI hate...  \n",
       "305119   I hate to see that evening sun go down\\nI hate...  \n",
       "992360                                                None  \n",
       "18501                                                 None  \n",
       "...                                                    ...  \n",
       "944790   I hate to see that evening sun go down\\r\\nI ha...  \n",
       "973660                                                None  \n",
       "1047489  I hate to see that evening sun go down\\r\\nI ha...  \n",
       "1114872                                               None  \n",
       "1209428                                               None  \n",
       "\n",
       "[1018 rows x 4 columns]"
      ]
     },
     "execution_count": 12,
     "metadata": {},
     "output_type": "execute_result"
    }
   ],
   "source": [
    "stl_blues.sort_values('year')"
   ]
  },
  {
   "cell_type": "code",
   "execution_count": 13,
   "metadata": {},
   "outputs": [
    {
     "data": {
      "text/plain": [
       "<matplotlib.axes._subplots.AxesSubplot at 0x119268490>"
      ]
     },
     "execution_count": 13,
     "metadata": {},
     "output_type": "execute_result"
    },
    {
     "data": {
      "image/png": "[encoded data removed]",
      "text/plain": [
       "<Figure size 432x288 with 1 Axes>"
      ]
     },
     "metadata": {
      "needs_background": "light"
     },
     "output_type": "display_data"
    }
   ],
   "source": [
    "stl_blues.year.hist(bins=25)"
   ]
  },
  {
   "cell_type": "code",
   "execution_count": 14,
   "metadata": {},
   "outputs": [
    {
     "data": {
      "text/plain": [
       "Elvis Presley         4010\n",
       "Frank Sinatra         3399\n",
       "Bing Crosby           2614\n",
       "Ella Fitzgerald3      2465\n",
       "Johnny Cash           2026\n",
       "The Beach Boys        2001\n",
       "Bob Dylan             1841\n",
       "Louis Armstrong       1794\n",
       "Nat King Cole         1589\n",
       "Dean Martin           1430\n",
       "Billie Holiday        1390\n",
       "The Beatles           1329\n",
       "Jerry Lee Lewis       1277\n",
       "Judy Garland          1274\n",
       "Johnny Hallyday       1251\n",
       "Tony Bennett          1247\n",
       "Edith Piaf            1181\n",
       "George Jones          1175\n",
       "Snoop Dogg            1147\n",
       "David Bowie           1136\n",
       "Grateful Dead         1130\n",
       "Sarah Vaughan         1125\n",
       "Lil Wayne             1053\n",
       "Marvin Gaye           1040\n",
       "Elton John            1032\n",
       "B.B. King             1017\n",
       "Ray Charles           1013\n",
       "James Brown           1002\n",
       "Diana Ross             997\n",
       "Elvis Costello         995\n",
       "Doris Day              994\n",
       "Peggy Lee              958\n",
       "Disney                 950\n",
       "The Kinks              944\n",
       "The Supremes           907\n",
       "The Rolling Stones     902\n",
       "Depeche Mode           897\n",
       "Rod Stewart            895\n",
       "Perry Como             891\n",
       "Aretha Franklin        890\n",
       "Eric Clapton           873\n",
       "Jay-Z                  852\n",
       "Merle Haggard          851\n",
       "Rosemary Clooney       841\n",
       "Duke Ellington         837\n",
       "Kidz Bop Kids          836\n",
       "Dolly Parton           819\n",
       "Mel Tormé              818\n",
       "Michael Jackson        798\n",
       "Hank Williams          779\n",
       "Name: artist, dtype: int64"
      ]
     },
     "execution_count": 14,
     "metadata": {},
     "output_type": "execute_result"
    }
   ],
   "source": [
    "data.artist.value_counts().head(50)"
   ]
  },
  {
   "cell_type": "code",
   "execution_count": 15,
   "metadata": {},
   "outputs": [
    {
     "data": {
      "image/png": "[encoded data removed]",
      "text/plain": [
       "<Figure size 432x288 with 1 Axes>"
      ]
     },
     "metadata": {
      "needs_background": "light"
     },
     "output_type": "display_data"
    }
   ],
   "source": [
    "data.artist.value_counts().hist(bins=50)\n",
    "plt.show()"
   ]
  },
  {
   "cell_type": "code",
   "execution_count": 16,
   "metadata": {},
   "outputs": [],
   "source": [
    "elvis = data[data.artist == 'Elvis Presley']"
   ]
  },
  {
   "cell_type": "code",
   "execution_count": 17,
   "metadata": {},
   "outputs": [
    {
     "data": {
      "text/html": [
       "<div>\n",
       "<style scoped>\n",
       "    .dataframe tbody tr th:only-of-type {\n",
       "        vertical-align: middle;\n",
       "    }\n",
       "\n",
       "    .dataframe tbody tr th {\n",
       "        vertical-align: top;\n",
       "    }\n",
       "\n",
       "    .dataframe thead th {\n",
       "        text-align: right;\n",
       "    }\n",
       "</style>\n",
       "<table border=\"1\" class=\"dataframe\">\n",
       "  <thead>\n",
       "    <tr style=\"text-align: right;\">\n",
       "      <th></th>\n",
       "      <th>artist</th>\n",
       "      <th>song</th>\n",
       "      <th>year</th>\n",
       "      <th>lyric</th>\n",
       "    </tr>\n",
       "  </thead>\n",
       "  <tbody>\n",
       "    <tr>\n",
       "      <th>347612</th>\n",
       "      <td>Elvis Presley</td>\n",
       "      <td>Devoted to You [Stereo Debut]</td>\n",
       "      <td>2019.0</td>\n",
       "      <td>Darlin', you can count on me\\r\\nTill the sun d...</td>\n",
       "    </tr>\n",
       "    <tr>\n",
       "      <th>347613</th>\n",
       "      <td>Elvis Presley</td>\n",
       "      <td>Stupid Cupid [Stereo Debut]</td>\n",
       "      <td>2019.0</td>\n",
       "      <td>Stupid Cupid you're a real mean guy\\r\\nI'd lik...</td>\n",
       "    </tr>\n",
       "    <tr>\n",
       "      <th>347614</th>\n",
       "      <td>Elvis Presley</td>\n",
       "      <td>Wake Up Little Susie [Stereo Debut]</td>\n",
       "      <td>2019.0</td>\n",
       "      <td>Wake up, little Susie, wake up\\r\\nWake up, lit...</td>\n",
       "    </tr>\n",
       "    <tr>\n",
       "      <th>347615</th>\n",
       "      <td>Elvis Presley</td>\n",
       "      <td>Wear My Ring Around Your Neck [Stereo Debut]</td>\n",
       "      <td>2019.0</td>\n",
       "      <td>Won't you wear my ring around your neck\\r\\nTo ...</td>\n",
       "    </tr>\n",
       "    <tr>\n",
       "      <th>347616</th>\n",
       "      <td>Elvis Presley</td>\n",
       "      <td>Jailhouse Rock [From Jailhouse Rock]</td>\n",
       "      <td>1975.0</td>\n",
       "      <td>The warden threw a party in the county jail\\nT...</td>\n",
       "    </tr>\n",
       "    <tr>\n",
       "      <th>347617</th>\n",
       "      <td>Elvis Presley</td>\n",
       "      <td>Surrender</td>\n",
       "      <td>1960.0</td>\n",
       "      <td>When we kiss my heart's on fire\\nBurning with ...</td>\n",
       "    </tr>\n",
       "    <tr>\n",
       "      <th>347618</th>\n",
       "      <td>Elvis Presley</td>\n",
       "      <td>Stranger in My Own Home Town</td>\n",
       "      <td>1969.0</td>\n",
       "      <td>I'm like a stranger\\r\\nLike a stranger in my o...</td>\n",
       "    </tr>\n",
       "    <tr>\n",
       "      <th>347619</th>\n",
       "      <td>Elvis Presley</td>\n",
       "      <td>I Feel So Bad</td>\n",
       "      <td>1961.0</td>\n",
       "      <td>None</td>\n",
       "    </tr>\n",
       "    <tr>\n",
       "      <th>347620</th>\n",
       "      <td>Elvis Presley</td>\n",
       "      <td>Trouble/Guitar Man [Opening] [Live]</td>\n",
       "      <td>2019.0</td>\n",
       "      <td>None</td>\n",
       "    </tr>\n",
       "    <tr>\n",
       "      <th>347621</th>\n",
       "      <td>Elvis Presley</td>\n",
       "      <td>Trouble/Guitar Man</td>\n",
       "      <td>1968.0</td>\n",
       "      <td>If you're looking for trouble\\r\\nYou came to t...</td>\n",
       "    </tr>\n",
       "    <tr>\n",
       "      <th>347622</th>\n",
       "      <td>Elvis Presley</td>\n",
       "      <td>Heartbreak Hotel [First 'Stand-Up' Show]</td>\n",
       "      <td>2019.0</td>\n",
       "      <td>Well, since my baby left me\\r\\nWell, I found a...</td>\n",
       "    </tr>\n",
       "    <tr>\n",
       "      <th>347623</th>\n",
       "      <td>Elvis Presley</td>\n",
       "      <td>Heartbreak Hotel [First \"Stand Up\" Show] [Live]</td>\n",
       "      <td>2019.0</td>\n",
       "      <td>Well, since my baby left me\\r\\nWell, I found a...</td>\n",
       "    </tr>\n",
       "    <tr>\n",
       "      <th>347624</th>\n",
       "      <td>Elvis Presley</td>\n",
       "      <td>All Shook Up [Second \"Stand Up\" Show] [Live]</td>\n",
       "      <td>2019.0</td>\n",
       "      <td>A well'a bless my soul\\nWhat'sa wrong with me?...</td>\n",
       "    </tr>\n",
       "    <tr>\n",
       "      <th>347625</th>\n",
       "      <td>Elvis Presley</td>\n",
       "      <td>All Shook Up [Second 'Sit-Down' Show]</td>\n",
       "      <td>2019.0</td>\n",
       "      <td>A well'a bless my soul\\r\\nWhat'sa wrong with m...</td>\n",
       "    </tr>\n",
       "    <tr>\n",
       "      <th>347626</th>\n",
       "      <td>Elvis Presley</td>\n",
       "      <td>Can't Help Falling in Love [First 'Stand-Up' S...</td>\n",
       "      <td>2006.0</td>\n",
       "      <td>Wise men say only fools rush in\\r\\nBut I can't...</td>\n",
       "    </tr>\n",
       "  </tbody>\n",
       "</table>\n",
       "</div>"
      ],
      "text/plain": [
       "               artist                                               song  \\\n",
       "347612  Elvis Presley                      Devoted to You [Stereo Debut]   \n",
       "347613  Elvis Presley                        Stupid Cupid [Stereo Debut]   \n",
       "347614  Elvis Presley                Wake Up Little Susie [Stereo Debut]   \n",
       "347615  Elvis Presley       Wear My Ring Around Your Neck [Stereo Debut]   \n",
       "347616  Elvis Presley               Jailhouse Rock [From Jailhouse Rock]   \n",
       "347617  Elvis Presley                                          Surrender   \n",
       "347618  Elvis Presley                       Stranger in My Own Home Town   \n",
       "347619  Elvis Presley                                      I Feel So Bad   \n",
       "347620  Elvis Presley                Trouble/Guitar Man [Opening] [Live]   \n",
       "347621  Elvis Presley                                 Trouble/Guitar Man   \n",
       "347622  Elvis Presley           Heartbreak Hotel [First 'Stand-Up' Show]   \n",
       "347623  Elvis Presley    Heartbreak Hotel [First \"Stand Up\" Show] [Live]   \n",
       "347624  Elvis Presley       All Shook Up [Second \"Stand Up\" Show] [Live]   \n",
       "347625  Elvis Presley              All Shook Up [Second 'Sit-Down' Show]   \n",
       "347626  Elvis Presley  Can't Help Falling in Love [First 'Stand-Up' S...   \n",
       "\n",
       "          year                                              lyric  \n",
       "347612  2019.0  Darlin', you can count on me\\r\\nTill the sun d...  \n",
       "347613  2019.0  Stupid Cupid you're a real mean guy\\r\\nI'd lik...  \n",
       "347614  2019.0  Wake up, little Susie, wake up\\r\\nWake up, lit...  \n",
       "347615  2019.0  Won't you wear my ring around your neck\\r\\nTo ...  \n",
       "347616  1975.0  The warden threw a party in the county jail\\nT...  \n",
       "347617  1960.0  When we kiss my heart's on fire\\nBurning with ...  \n",
       "347618  1969.0  I'm like a stranger\\r\\nLike a stranger in my o...  \n",
       "347619  1961.0                                               None  \n",
       "347620  2019.0                                               None  \n",
       "347621  1968.0  If you're looking for trouble\\r\\nYou came to t...  \n",
       "347622  2019.0  Well, since my baby left me\\r\\nWell, I found a...  \n",
       "347623  2019.0  Well, since my baby left me\\r\\nWell, I found a...  \n",
       "347624  2019.0  A well'a bless my soul\\nWhat'sa wrong with me?...  \n",
       "347625  2019.0  A well'a bless my soul\\r\\nWhat'sa wrong with m...  \n",
       "347626  2006.0  Wise men say only fools rush in\\r\\nBut I can't...  "
      ]
     },
     "execution_count": 17,
     "metadata": {},
     "output_type": "execute_result"
    }
   ],
   "source": [
    "elvis.head(15)"
   ]
  },
  {
   "cell_type": "code",
   "execution_count": 18,
   "metadata": {},
   "outputs": [
    {
     "data": {
      "image/png": "[encoded data removed]",
      "text/plain": [
       "<Figure size 432x288 with 1 Axes>"
      ]
     },
     "metadata": {
      "needs_background": "light"
     },
     "output_type": "display_data"
    }
   ],
   "source": [
    "elvis.year.hist(bins=30)\n",
    "plt.show()"
   ]
  },
  {
   "cell_type": "code",
   "execution_count": 19,
   "metadata": {},
   "outputs": [],
   "source": [
    "# Remove bracketed song information\n",
    "# bracket_pattern = \"([^\\[]+)\"\n",
    "# elvis['stripped'] = elvis.song.str.extract(bracket_pattern)\n",
    "# bracket_index = elvis.song.str.match(bracket_pattern)\n",
    "# elvis.loc[bracket_index, 'song'] = elvis.loc[bracket_index, 'stripped']\n",
    "# elvis['song'] = elvis.song.str.strip()\n",
    "# elvis['song'] = elvis.song.str.lower()\n",
    "# elvis.head(15)"
   ]
  },
  {
   "cell_type": "code",
   "execution_count": 20,
   "metadata": {},
   "outputs": [],
   "source": [
    "def clean_data(df):\n",
    "    df.song = df.song.str.replace(r'\\[.*','')\n",
    "    df.song = df.song.str.lower()\n",
    "    df.song = df.song.str.replace(r',','')\n",
    "    df.song = df.song.str.replace('\\.+(\\(.+\\))', '')\n",
    "    df.song = df.song.str.replace('(\\(.+\\))\\.+', '')\n",
    "    df.song = df.song.str.replace(\"'\", '')\n",
    "    df.song = df.song.str.replace(\"’\", '')\n",
    "    df.song = df.song.str.strip()\n",
    "    return df"
   ]
  },
  {
   "cell_type": "code",
   "execution_count": 21,
   "metadata": {},
   "outputs": [
    {
     "name": "stderr",
     "output_type": "stream",
     "text": [
      "/usr/local/lib/python3.7/site-packages/pandas/core/generic.py:5303: SettingWithCopyWarning: \n",
      "A value is trying to be set on a copy of a slice from a DataFrame.\n",
      "Try using .loc[row_indexer,col_indexer] = value instead\n",
      "\n",
      "See the caveats in the documentation: https://pandas.pydata.org/pandas-docs/stable/user_guide/indexing.html#returning-a-view-versus-a-copy\n",
      "  self[name] = value\n"
     ]
    },
    {
     "data": {
      "text/html": [
       "<div>\n",
       "<style scoped>\n",
       "    .dataframe tbody tr th:only-of-type {\n",
       "        vertical-align: middle;\n",
       "    }\n",
       "\n",
       "    .dataframe tbody tr th {\n",
       "        vertical-align: top;\n",
       "    }\n",
       "\n",
       "    .dataframe thead th {\n",
       "        text-align: right;\n",
       "    }\n",
       "</style>\n",
       "<table border=\"1\" class=\"dataframe\">\n",
       "  <thead>\n",
       "    <tr style=\"text-align: right;\">\n",
       "      <th></th>\n",
       "      <th>artist</th>\n",
       "      <th>song</th>\n",
       "      <th>year</th>\n",
       "      <th>lyric</th>\n",
       "    </tr>\n",
       "  </thead>\n",
       "  <tbody>\n",
       "    <tr>\n",
       "      <th>347612</th>\n",
       "      <td>Elvis Presley</td>\n",
       "      <td>devoted to you</td>\n",
       "      <td>2019.0</td>\n",
       "      <td>Darlin', you can count on me\\r\\nTill the sun d...</td>\n",
       "    </tr>\n",
       "    <tr>\n",
       "      <th>347613</th>\n",
       "      <td>Elvis Presley</td>\n",
       "      <td>stupid cupid</td>\n",
       "      <td>2019.0</td>\n",
       "      <td>Stupid Cupid you're a real mean guy\\r\\nI'd lik...</td>\n",
       "    </tr>\n",
       "    <tr>\n",
       "      <th>347614</th>\n",
       "      <td>Elvis Presley</td>\n",
       "      <td>wake up little susie</td>\n",
       "      <td>2019.0</td>\n",
       "      <td>Wake up, little Susie, wake up\\r\\nWake up, lit...</td>\n",
       "    </tr>\n",
       "    <tr>\n",
       "      <th>347615</th>\n",
       "      <td>Elvis Presley</td>\n",
       "      <td>wear my ring around your neck</td>\n",
       "      <td>2019.0</td>\n",
       "      <td>Won't you wear my ring around your neck\\r\\nTo ...</td>\n",
       "    </tr>\n",
       "    <tr>\n",
       "      <th>347616</th>\n",
       "      <td>Elvis Presley</td>\n",
       "      <td>jailhouse rock</td>\n",
       "      <td>1975.0</td>\n",
       "      <td>The warden threw a party in the county jail\\nT...</td>\n",
       "    </tr>\n",
       "  </tbody>\n",
       "</table>\n",
       "</div>"
      ],
      "text/plain": [
       "               artist                           song    year  \\\n",
       "347612  Elvis Presley                 devoted to you  2019.0   \n",
       "347613  Elvis Presley                   stupid cupid  2019.0   \n",
       "347614  Elvis Presley           wake up little susie  2019.0   \n",
       "347615  Elvis Presley  wear my ring around your neck  2019.0   \n",
       "347616  Elvis Presley                 jailhouse rock  1975.0   \n",
       "\n",
       "                                                    lyric  \n",
       "347612  Darlin', you can count on me\\r\\nTill the sun d...  \n",
       "347613  Stupid Cupid you're a real mean guy\\r\\nI'd lik...  \n",
       "347614  Wake up, little Susie, wake up\\r\\nWake up, lit...  \n",
       "347615  Won't you wear my ring around your neck\\r\\nTo ...  \n",
       "347616  The warden threw a party in the county jail\\nT...  "
      ]
     },
     "execution_count": 21,
     "metadata": {},
     "output_type": "execute_result"
    }
   ],
   "source": [
    "elvis_clean = clean_data(elvis)\n",
    "elvis_clean.head()"
   ]
  },
  {
   "cell_type": "code",
   "execution_count": 22,
   "metadata": {},
   "outputs": [
    {
     "data": {
      "text/plain": [
       "1317"
      ]
     },
     "execution_count": 22,
     "metadata": {},
     "output_type": "execute_result"
    }
   ],
   "source": [
    "len(elvis.song.unique())"
   ]
  },
  {
   "cell_type": "code",
   "execution_count": 23,
   "metadata": {},
   "outputs": [],
   "source": [
    "test = elvis.groupby(['artist','song']).min()"
   ]
  },
  {
   "cell_type": "code",
   "execution_count": 24,
   "metadata": {},
   "outputs": [
    {
     "data": {
      "text/html": [
       "<div>\n",
       "<style scoped>\n",
       "    .dataframe tbody tr th:only-of-type {\n",
       "        vertical-align: middle;\n",
       "    }\n",
       "\n",
       "    .dataframe tbody tr th {\n",
       "        vertical-align: top;\n",
       "    }\n",
       "\n",
       "    .dataframe thead th {\n",
       "        text-align: right;\n",
       "    }\n",
       "</style>\n",
       "<table border=\"1\" class=\"dataframe\">\n",
       "  <thead>\n",
       "    <tr style=\"text-align: right;\">\n",
       "      <th></th>\n",
       "      <th></th>\n",
       "      <th>year</th>\n",
       "    </tr>\n",
       "    <tr>\n",
       "      <th>artist</th>\n",
       "      <th>song</th>\n",
       "      <th></th>\n",
       "    </tr>\n",
       "  </thead>\n",
       "  <tbody>\n",
       "    <tr>\n",
       "      <th rowspan=\"50\" valign=\"top\">Elvis Presley</th>\n",
       "      <th></th>\n",
       "      <td>2006.0</td>\n",
       "    </tr>\n",
       "    <tr>\n",
       "      <th>(dance with the) guitar man</th>\n",
       "      <td>2015.0</td>\n",
       "    </tr>\n",
       "    <tr>\n",
       "      <th>(im) all shook up</th>\n",
       "      <td>1987.0</td>\n",
       "    </tr>\n",
       "    <tr>\n",
       "      <th>(intro) johnny b. goode</th>\n",
       "      <td>1975.0</td>\n",
       "    </tr>\n",
       "    <tr>\n",
       "      <th>(its a) long lonely highway</th>\n",
       "      <td>1964.0</td>\n",
       "    </tr>\n",
       "    <tr>\n",
       "      <th>(let me be your) teddy bear</th>\n",
       "      <td>1957.0</td>\n",
       "    </tr>\n",
       "    <tr>\n",
       "      <th>(let me be your)teddy bear</th>\n",
       "      <td>2012.0</td>\n",
       "    </tr>\n",
       "    <tr>\n",
       "      <th>(lets have a) party</th>\n",
       "      <td>2000.0</td>\n",
       "    </tr>\n",
       "    <tr>\n",
       "      <th>(maries the name of) his latest flame</th>\n",
       "      <td>1964.0</td>\n",
       "    </tr>\n",
       "    <tr>\n",
       "      <th>(maries the name) his latest flame</th>\n",
       "      <td>1960.0</td>\n",
       "    </tr>\n",
       "    <tr>\n",
       "      <th>(now and then theres) a fool such as i</th>\n",
       "      <td>1959.0</td>\n",
       "    </tr>\n",
       "    <tr>\n",
       "      <th>(such an) easy question</th>\n",
       "      <td>1962.0</td>\n",
       "    </tr>\n",
       "    <tr>\n",
       "      <th>(thats what you get) for lovin me</th>\n",
       "      <td>1978.0</td>\n",
       "    </tr>\n",
       "    <tr>\n",
       "      <th>(there will be) peace in the valley (for me)</th>\n",
       "      <td>2012.0</td>\n",
       "    </tr>\n",
       "    <tr>\n",
       "      <th>(therell be) peace in the valley</th>\n",
       "      <td>1957.0</td>\n",
       "    </tr>\n",
       "    <tr>\n",
       "      <th>(therell be) peace in the valley (for me)</th>\n",
       "      <td>1960.0</td>\n",
       "    </tr>\n",
       "    <tr>\n",
       "      <th>(theres) good rockin tonight</th>\n",
       "      <td>2010.0</td>\n",
       "    </tr>\n",
       "    <tr>\n",
       "      <th>(theres) no room to rhumba in a sports car</th>\n",
       "      <td>1963.0</td>\n",
       "    </tr>\n",
       "    <tr>\n",
       "      <th>(therll be) peace in the valley</th>\n",
       "      <td>1971.0</td>\n",
       "    </tr>\n",
       "    <tr>\n",
       "      <th>(youre so square) baby i dont care</th>\n",
       "      <td>1959.0</td>\n",
       "    </tr>\n",
       "    <tr>\n",
       "      <th>(youre so square) baby i dont care</th>\n",
       "      <td>2016.0</td>\n",
       "    </tr>\n",
       "    <tr>\n",
       "      <th>(youre the) devil in disguise</th>\n",
       "      <td>1968.0</td>\n",
       "    </tr>\n",
       "    <tr>\n",
       "      <th>8. ive lost you</th>\n",
       "      <td>2016.0</td>\n",
       "    </tr>\n",
       "    <tr>\n",
       "      <th>a big hunk o love</th>\n",
       "      <td>1959.0</td>\n",
       "    </tr>\n",
       "    <tr>\n",
       "      <th>a big hunk o love (loop)</th>\n",
       "      <td>2007.0</td>\n",
       "    </tr>\n",
       "    <tr>\n",
       "      <th>a big hunk olove</th>\n",
       "      <td>2001.0</td>\n",
       "    </tr>\n",
       "    <tr>\n",
       "      <th>a boy like me a girl like you</th>\n",
       "      <td>1962.0</td>\n",
       "    </tr>\n",
       "    <tr>\n",
       "      <th>a cane and a high starched collar</th>\n",
       "      <td>1969.0</td>\n",
       "    </tr>\n",
       "    <tr>\n",
       "      <th>a dogs life</th>\n",
       "      <td>1966.0</td>\n",
       "    </tr>\n",
       "    <tr>\n",
       "      <th>a fool such as i</th>\n",
       "      <td>1978.0</td>\n",
       "    </tr>\n",
       "    <tr>\n",
       "      <th>a fool such as i (now and then theres)</th>\n",
       "      <td>2008.0</td>\n",
       "    </tr>\n",
       "    <tr>\n",
       "      <th>a fool such as i (now and then)</th>\n",
       "      <td>2000.0</td>\n",
       "    </tr>\n",
       "    <tr>\n",
       "      <th>a house that has everything</th>\n",
       "      <td>1967.0</td>\n",
       "    </tr>\n",
       "    <tr>\n",
       "      <th>a hundred years from now</th>\n",
       "      <td>1971.0</td>\n",
       "    </tr>\n",
       "    <tr>\n",
       "      <th>a litte less conversation</th>\n",
       "      <td>2002.0</td>\n",
       "    </tr>\n",
       "    <tr>\n",
       "      <th>a little bit of green</th>\n",
       "      <td>1969.0</td>\n",
       "    </tr>\n",
       "    <tr>\n",
       "      <th>a little less conversation</th>\n",
       "      <td>1970.0</td>\n",
       "    </tr>\n",
       "    <tr>\n",
       "      <th>a little less conversation (junkie xl remix)</th>\n",
       "      <td>2010.0</td>\n",
       "    </tr>\n",
       "    <tr>\n",
       "      <th>a little less conversations</th>\n",
       "      <td>2001.0</td>\n",
       "    </tr>\n",
       "    <tr>\n",
       "      <th>a little less coversation</th>\n",
       "      <td>2006.0</td>\n",
       "    </tr>\n",
       "    <tr>\n",
       "      <th>a mess of blues</th>\n",
       "      <td>1960.0</td>\n",
       "    </tr>\n",
       "    <tr>\n",
       "      <th>a thing called love</th>\n",
       "      <td>1972.0</td>\n",
       "    </tr>\n",
       "    <tr>\n",
       "      <th>a whistling tune</th>\n",
       "      <td>1962.0</td>\n",
       "    </tr>\n",
       "    <tr>\n",
       "      <th>a world of our own</th>\n",
       "      <td>1963.0</td>\n",
       "    </tr>\n",
       "    <tr>\n",
       "      <th>adam and evil</th>\n",
       "      <td>1966.0</td>\n",
       "    </tr>\n",
       "    <tr>\n",
       "      <th>after loving you</th>\n",
       "      <td>1969.0</td>\n",
       "    </tr>\n",
       "    <tr>\n",
       "      <th>aint that lovin you baby</th>\n",
       "      <td>2014.0</td>\n",
       "    </tr>\n",
       "    <tr>\n",
       "      <th>aint that loving you baby</th>\n",
       "      <td>1968.0</td>\n",
       "    </tr>\n",
       "    <tr>\n",
       "      <th>all i needed was the rain</th>\n",
       "      <td>1969.0</td>\n",
       "    </tr>\n",
       "    <tr>\n",
       "      <th>all shook up</th>\n",
       "      <td>1957.0</td>\n",
       "    </tr>\n",
       "  </tbody>\n",
       "</table>\n",
       "</div>"
      ],
      "text/plain": [
       "                                                              year\n",
       "artist        song                                                \n",
       "Elvis Presley                                               2006.0\n",
       "              (dance with the) guitar man                   2015.0\n",
       "              (im) all shook up                             1987.0\n",
       "              (intro) johnny b. goode                       1975.0\n",
       "              (its a) long lonely highway                   1964.0\n",
       "              (let me be your) teddy bear                   1957.0\n",
       "              (let me be your)teddy bear                    2012.0\n",
       "              (lets have a) party                           2000.0\n",
       "              (maries the name of) his latest flame         1964.0\n",
       "              (maries the name) his latest flame            1960.0\n",
       "              (now and then theres) a fool such as i        1959.0\n",
       "              (such an) easy question                       1962.0\n",
       "              (thats what you get) for lovin me             1978.0\n",
       "              (there will be) peace in the valley (for me)  2012.0\n",
       "              (therell be) peace in the valley              1957.0\n",
       "              (therell be) peace in the valley (for me)     1960.0\n",
       "              (theres) good rockin tonight                  2010.0\n",
       "              (theres) no room to rhumba in a sports car    1963.0\n",
       "              (therll be) peace in the valley               1971.0\n",
       "              (youre so square) baby i dont care            1959.0\n",
       "              (youre so square) baby i dont care            2016.0\n",
       "              (youre the) devil in disguise                 1968.0\n",
       "              8. ive lost you                               2016.0\n",
       "              a big hunk o love                             1959.0\n",
       "              a big hunk o love (loop)                      2007.0\n",
       "              a big hunk olove                              2001.0\n",
       "              a boy like me a girl like you                 1962.0\n",
       "              a cane and a high starched collar             1969.0\n",
       "              a dogs life                                   1966.0\n",
       "              a fool such as i                              1978.0\n",
       "              a fool such as i (now and then theres)        2008.0\n",
       "              a fool such as i (now and then)               2000.0\n",
       "              a house that has everything                   1967.0\n",
       "              a hundred years from now                      1971.0\n",
       "              a litte less conversation                     2002.0\n",
       "              a little bit of green                         1969.0\n",
       "              a little less conversation                    1970.0\n",
       "              a little less conversation (junkie xl remix)  2010.0\n",
       "              a little less conversations                   2001.0\n",
       "              a little less coversation                     2006.0\n",
       "              a mess of blues                               1960.0\n",
       "              a thing called love                           1972.0\n",
       "              a whistling tune                              1962.0\n",
       "              a world of our own                            1963.0\n",
       "              adam and evil                                 1966.0\n",
       "              after loving you                              1969.0\n",
       "              aint that lovin you baby                      2014.0\n",
       "              aint that loving you baby                     1968.0\n",
       "              all i needed was the rain                     1969.0\n",
       "              all shook up                                  1957.0"
      ]
     },
     "execution_count": 24,
     "metadata": {},
     "output_type": "execute_result"
    }
   ],
   "source": [
    "test.head(50)"
   ]
  },
  {
   "cell_type": "code",
   "execution_count": 25,
   "metadata": {},
   "outputs": [
    {
     "data": {
      "text/html": [
       "<div>\n",
       "<style scoped>\n",
       "    .dataframe tbody tr th:only-of-type {\n",
       "        vertical-align: middle;\n",
       "    }\n",
       "\n",
       "    .dataframe tbody tr th {\n",
       "        vertical-align: top;\n",
       "    }\n",
       "\n",
       "    .dataframe thead th {\n",
       "        text-align: right;\n",
       "    }\n",
       "</style>\n",
       "<table border=\"1\" class=\"dataframe\">\n",
       "  <thead>\n",
       "    <tr style=\"text-align: right;\">\n",
       "      <th></th>\n",
       "      <th>artist</th>\n",
       "      <th>song</th>\n",
       "      <th>year</th>\n",
       "      <th>lyric</th>\n",
       "    </tr>\n",
       "  </thead>\n",
       "  <tbody>\n",
       "    <tr>\n",
       "      <th>0</th>\n",
       "      <td>A B</td>\n",
       "      <td>con el tic tac del reloj</td>\n",
       "      <td>2000.0</td>\n",
       "      <td>Era tan facil soÃ±ar\\r\\nQue te podias quedar\\r...</td>\n",
       "    </tr>\n",
       "    <tr>\n",
       "      <th>1</th>\n",
       "      <td>A Band Called \"O\"</td>\n",
       "      <td>sleeping</td>\n",
       "      <td>1975.0</td>\n",
       "      <td>None</td>\n",
       "    </tr>\n",
       "    <tr>\n",
       "      <th>2</th>\n",
       "      <td>A Band Called \"O\"</td>\n",
       "      <td>take your time</td>\n",
       "      <td>1975.0</td>\n",
       "      <td>None</td>\n",
       "    </tr>\n",
       "    <tr>\n",
       "      <th>3</th>\n",
       "      <td>A Band Called David</td>\n",
       "      <td>another try</td>\n",
       "      <td>1977.0</td>\n",
       "      <td>How have You been? Lovely to see You,\\nMy how ...</td>\n",
       "    </tr>\n",
       "    <tr>\n",
       "      <th>4</th>\n",
       "      <td>A Band Called David</td>\n",
       "      <td>just the same</td>\n",
       "      <td>1977.0</td>\n",
       "      <td>None</td>\n",
       "    </tr>\n",
       "  </tbody>\n",
       "</table>\n",
       "</div>"
      ],
      "text/plain": [
       "                artist                      song    year  \\\n",
       "0                  A B  con el tic tac del reloj  2000.0   \n",
       "1    A Band Called \"O\"                  sleeping  1975.0   \n",
       "2    A Band Called \"O\"            take your time  1975.0   \n",
       "3  A Band Called David               another try  1977.0   \n",
       "4  A Band Called David             just the same  1977.0   \n",
       "\n",
       "                                               lyric  \n",
       "0  Era tan facil soÃ±ar\\r\\nQue te podias quedar\\r...  \n",
       "1                                               None  \n",
       "2                                               None  \n",
       "3  How have You been? Lovely to see You,\\nMy how ...  \n",
       "4                                               None  "
      ]
     },
     "execution_count": 25,
     "metadata": {},
     "output_type": "execute_result"
    }
   ],
   "source": [
    "data_clean = clean_data(data)\n",
    "data.head()"
   ]
  },
  {
   "cell_type": "code",
   "execution_count": 26,
   "metadata": {},
   "outputs": [
    {
     "data": {
      "text/plain": [
       "375348"
      ]
     },
     "execution_count": 26,
     "metadata": {},
     "output_type": "execute_result"
    }
   ],
   "source": [
    "len(data.song.unique())"
   ]
  },
  {
   "cell_type": "code",
   "execution_count": 27,
   "metadata": {},
   "outputs": [
    {
     "data": {
      "text/plain": [
       "no lyrics found                           15574\n",
       "body and soul                              1243\n",
       "over the rainbow                           1223\n",
       "st. louis blues                            1116\n",
       "stardust                                   1105\n",
       "have yourself a merry little christmas     1072\n",
       "intro                                      1064\n",
       "someone to watch over me                   1036\n",
       "embraceable you                             910\n",
       "but not for me                              781\n",
       "lover come back to me                       723\n",
       "the nearness of you                         704\n",
       "ill remember april                          698\n",
       "after youve gone                            692\n",
       "aint misbehavin                             683\n",
       "love is here to stay                        679\n",
       "you dont know what love is                  670\n",
       "how high the moon                           670\n",
       "o little town of bethlehem                  669\n",
       "caravan                                     667\n",
       "santa claus is coming to town               667\n",
       "oh lady be good                             663\n",
       "in a sentimental mood                       662\n",
       "laura                                       657\n",
       "on the sunny side of the street             651\n",
       "youd be so nice to come home to             650\n",
       "speak low                                   639\n",
       "skylark                                     636\n",
       "my foolish heart                            632\n",
       "danny boy                                   626\n",
       "it might as well be spring                  624\n",
       "heres that rainy day                        618\n",
       "blue moon                                   604\n",
       "how deep is the ocean?                      603\n",
       "ive got you under my skin                   599\n",
       "i cant give you anything but love           582\n",
       "these foolish things                        581\n",
       "begin the beguine                           577\n",
       "where or when                               577\n",
       "the little drummer boy                      577\n",
       "white christmas                             569\n",
       "silent night                                561\n",
       "bye bye blackbird                           556\n",
       "mood indigo                                 555\n",
       "like someone in love                        552\n",
       "the christmas song                          541\n",
       "round midnight                              535\n",
       "it had to be you                            533\n",
       "i only have eyes for you                    529\n",
       "prelude to a kiss                           527\n",
       "Name: song, dtype: int64"
      ]
     },
     "execution_count": 27,
     "metadata": {},
     "output_type": "execute_result"
    }
   ],
   "source": [
    "data.song.value_counts().head(50)"
   ]
  },
  {
   "cell_type": "code",
   "execution_count": 28,
   "metadata": {},
   "outputs": [],
   "source": [
    "from fuzzywuzzy import fuzz"
   ]
  },
  {
   "cell_type": "code",
   "execution_count": 29,
   "metadata": {},
   "outputs": [
    {
     "name": "stderr",
     "output_type": "stream",
     "text": [
      "/usr/local/lib/python3.7/site-packages/ipykernel_launcher.py:2: SettingWithCopyWarning: \n",
      "A value is trying to be set on a copy of a slice from a DataFrame.\n",
      "Try using .loc[row_indexer,col_indexer] = value instead\n",
      "\n",
      "See the caveats in the documentation: https://pandas.pydata.org/pandas-docs/stable/user_guide/indexing.html#returning-a-view-versus-a-copy\n",
      "  \n"
     ]
    }
   ],
   "source": [
    "func = lambda x: fuzz.partial_ratio('teddy bear', x)\n",
    "elvis['ratio'] = elvis.song.apply(func)"
   ]
  },
  {
   "cell_type": "code",
   "execution_count": 30,
   "metadata": {},
   "outputs": [
    {
     "data": {
      "image/png": "[encoded data removed]",
      "text/plain": [
       "<Figure size 432x288 with 1 Axes>"
      ]
     },
     "metadata": {
      "needs_background": "light"
     },
     "output_type": "display_data"
    }
   ],
   "source": [
    "elvis.ratio.hist()\n",
    "plt.show()"
   ]
  },
  {
   "cell_type": "code",
   "execution_count": 31,
   "metadata": {},
   "outputs": [
    {
     "data": {
      "text/html": [
       "<div>\n",
       "<style scoped>\n",
       "    .dataframe tbody tr th:only-of-type {\n",
       "        vertical-align: middle;\n",
       "    }\n",
       "\n",
       "    .dataframe tbody tr th {\n",
       "        vertical-align: top;\n",
       "    }\n",
       "\n",
       "    .dataframe thead th {\n",
       "        text-align: right;\n",
       "    }\n",
       "</style>\n",
       "<table border=\"1\" class=\"dataframe\">\n",
       "  <thead>\n",
       "    <tr style=\"text-align: right;\">\n",
       "      <th></th>\n",
       "      <th>artist</th>\n",
       "      <th>song</th>\n",
       "      <th>year</th>\n",
       "      <th>lyric</th>\n",
       "      <th>ratio</th>\n",
       "    </tr>\n",
       "  </thead>\n",
       "  <tbody>\n",
       "    <tr>\n",
       "      <th>347672</th>\n",
       "      <td>Elvis Presley</td>\n",
       "      <td>(let me be your) teddy bear</td>\n",
       "      <td>1957.0</td>\n",
       "      <td>Baby, let me be\\r\\nYour lovin' teddy bear\\r\\nP...</td>\n",
       "      <td>100</td>\n",
       "    </tr>\n",
       "    <tr>\n",
       "      <th>347747</th>\n",
       "      <td>Elvis Presley</td>\n",
       "      <td>(let me be your) teddy bear</td>\n",
       "      <td>2018.0</td>\n",
       "      <td>Baby, let me be\\nYour lovin' teddy bear\\nPut a...</td>\n",
       "      <td>100</td>\n",
       "    </tr>\n",
       "    <tr>\n",
       "      <th>347960</th>\n",
       "      <td>Elvis Presley</td>\n",
       "      <td>teddy bear</td>\n",
       "      <td>2001.0</td>\n",
       "      <td>None</td>\n",
       "      <td>100</td>\n",
       "    </tr>\n",
       "    <tr>\n",
       "      <th>348297</th>\n",
       "      <td>Elvis Presley</td>\n",
       "      <td>medley: (let me be your) teddy bear/dont be cr...</td>\n",
       "      <td>2016.0</td>\n",
       "      <td>You know I can be found\\nSitting home all alon...</td>\n",
       "      <td>100</td>\n",
       "    </tr>\n",
       "    <tr>\n",
       "      <th>348726</th>\n",
       "      <td>Elvis Presley</td>\n",
       "      <td>(let me be your) teddy bear</td>\n",
       "      <td>2012.0</td>\n",
       "      <td>Oh baby let me be, your lovin' teddy bear\\nPut...</td>\n",
       "      <td>100</td>\n",
       "    </tr>\n",
       "    <tr>\n",
       "      <th>348817</th>\n",
       "      <td>Elvis Presley</td>\n",
       "      <td>(let me be your) teddy bear</td>\n",
       "      <td>2012.0</td>\n",
       "      <td>None</td>\n",
       "      <td>100</td>\n",
       "    </tr>\n",
       "    <tr>\n",
       "      <th>349015</th>\n",
       "      <td>Elvis Presley</td>\n",
       "      <td>(let me be your)teddy bear</td>\n",
       "      <td>2012.0</td>\n",
       "      <td>None</td>\n",
       "      <td>100</td>\n",
       "    </tr>\n",
       "    <tr>\n",
       "      <th>349036</th>\n",
       "      <td>Elvis Presley</td>\n",
       "      <td>(let me be your) teddy bear</td>\n",
       "      <td>2012.0</td>\n",
       "      <td>None</td>\n",
       "      <td>100</td>\n",
       "    </tr>\n",
       "    <tr>\n",
       "      <th>349258</th>\n",
       "      <td>Elvis Presley</td>\n",
       "      <td>teddy bear (let me be your)</td>\n",
       "      <td>1958.0</td>\n",
       "      <td>Baby, let me be\\nYour lovin' teddy bear\\nPut a...</td>\n",
       "      <td>100</td>\n",
       "    </tr>\n",
       "    <tr>\n",
       "      <th>349271</th>\n",
       "      <td>Elvis Presley</td>\n",
       "      <td>(let me be your) teddy bear</td>\n",
       "      <td>1957.0</td>\n",
       "      <td>Oh baby let me be, your lovin' teddy bear\\nPut...</td>\n",
       "      <td>100</td>\n",
       "    </tr>\n",
       "    <tr>\n",
       "      <th>349293</th>\n",
       "      <td>Elvis Presley</td>\n",
       "      <td>(let me be your) teddy bear</td>\n",
       "      <td>2008.0</td>\n",
       "      <td>Oh, baby, let me be your lovin' teddy bear\\r\\n...</td>\n",
       "      <td>100</td>\n",
       "    </tr>\n",
       "    <tr>\n",
       "      <th>349694</th>\n",
       "      <td>Elvis Presley</td>\n",
       "      <td>teddy bear (singer: otis blackwell)</td>\n",
       "      <td>2006.0</td>\n",
       "      <td>Baby, let me be\\nYour lovin' teddy bear\\nPut a...</td>\n",
       "      <td>100</td>\n",
       "    </tr>\n",
       "    <tr>\n",
       "      <th>350494</th>\n",
       "      <td>Elvis Presley</td>\n",
       "      <td>(let me be your) teddy bear</td>\n",
       "      <td>2001.0</td>\n",
       "      <td>Oh baby let me be, your lovin' teddy bear\\nPut...</td>\n",
       "      <td>100</td>\n",
       "    </tr>\n",
       "    <tr>\n",
       "      <th>350614</th>\n",
       "      <td>Elvis Presley</td>\n",
       "      <td>medley: (let me be your) teddy bear/dont be cruel</td>\n",
       "      <td>1972.0</td>\n",
       "      <td>You know I can be found\\nSitting home all alon...</td>\n",
       "      <td>100</td>\n",
       "    </tr>\n",
       "    <tr>\n",
       "      <th>350722</th>\n",
       "      <td>Elvis Presley</td>\n",
       "      <td>(let me be your) teddy bear</td>\n",
       "      <td>1997.0</td>\n",
       "      <td>Oh baby let me be, your lovin' teddy bear\\nPut...</td>\n",
       "      <td>100</td>\n",
       "    </tr>\n",
       "    <tr>\n",
       "      <th>350823</th>\n",
       "      <td>Elvis Presley</td>\n",
       "      <td>teddy bear (let me be your)</td>\n",
       "      <td>1995.0</td>\n",
       "      <td>Baby, let me be\\nYour lovin' teddy bear\\nPut a...</td>\n",
       "      <td>100</td>\n",
       "    </tr>\n",
       "    <tr>\n",
       "      <th>350931</th>\n",
       "      <td>Elvis Presley</td>\n",
       "      <td>(let me be your) teddy bear</td>\n",
       "      <td>1991.0</td>\n",
       "      <td>None</td>\n",
       "      <td>100</td>\n",
       "    </tr>\n",
       "    <tr>\n",
       "      <th>351118</th>\n",
       "      <td>Elvis Presley</td>\n",
       "      <td>medley: (let me be your) teddy bear/dont be cruel</td>\n",
       "      <td>1972.0</td>\n",
       "      <td>You know I can be found\\nSitting home all alon...</td>\n",
       "      <td>100</td>\n",
       "    </tr>\n",
       "  </tbody>\n",
       "</table>\n",
       "</div>"
      ],
      "text/plain": [
       "               artist                                               song  \\\n",
       "347672  Elvis Presley                        (let me be your) teddy bear   \n",
       "347747  Elvis Presley                        (let me be your) teddy bear   \n",
       "347960  Elvis Presley                                         teddy bear   \n",
       "348297  Elvis Presley  medley: (let me be your) teddy bear/dont be cr...   \n",
       "348726  Elvis Presley                        (let me be your) teddy bear   \n",
       "348817  Elvis Presley                        (let me be your) teddy bear   \n",
       "349015  Elvis Presley                         (let me be your)teddy bear   \n",
       "349036  Elvis Presley                        (let me be your) teddy bear   \n",
       "349258  Elvis Presley                        teddy bear (let me be your)   \n",
       "349271  Elvis Presley                        (let me be your) teddy bear   \n",
       "349293  Elvis Presley                        (let me be your) teddy bear   \n",
       "349694  Elvis Presley                teddy bear (singer: otis blackwell)   \n",
       "350494  Elvis Presley                        (let me be your) teddy bear   \n",
       "350614  Elvis Presley  medley: (let me be your) teddy bear/dont be cruel   \n",
       "350722  Elvis Presley                        (let me be your) teddy bear   \n",
       "350823  Elvis Presley                        teddy bear (let me be your)   \n",
       "350931  Elvis Presley                        (let me be your) teddy bear   \n",
       "351118  Elvis Presley  medley: (let me be your) teddy bear/dont be cruel   \n",
       "\n",
       "          year                                              lyric  ratio  \n",
       "347672  1957.0  Baby, let me be\\r\\nYour lovin' teddy bear\\r\\nP...    100  \n",
       "347747  2018.0  Baby, let me be\\nYour lovin' teddy bear\\nPut a...    100  \n",
       "347960  2001.0                                               None    100  \n",
       "348297  2016.0  You know I can be found\\nSitting home all alon...    100  \n",
       "348726  2012.0  Oh baby let me be, your lovin' teddy bear\\nPut...    100  \n",
       "348817  2012.0                                               None    100  \n",
       "349015  2012.0                                               None    100  \n",
       "349036  2012.0                                               None    100  \n",
       "349258  1958.0  Baby, let me be\\nYour lovin' teddy bear\\nPut a...    100  \n",
       "349271  1957.0  Oh baby let me be, your lovin' teddy bear\\nPut...    100  \n",
       "349293  2008.0  Oh, baby, let me be your lovin' teddy bear\\r\\n...    100  \n",
       "349694  2006.0  Baby, let me be\\nYour lovin' teddy bear\\nPut a...    100  \n",
       "350494  2001.0  Oh baby let me be, your lovin' teddy bear\\nPut...    100  \n",
       "350614  1972.0  You know I can be found\\nSitting home all alon...    100  \n",
       "350722  1997.0  Oh baby let me be, your lovin' teddy bear\\nPut...    100  \n",
       "350823  1995.0  Baby, let me be\\nYour lovin' teddy bear\\nPut a...    100  \n",
       "350931  1991.0                                               None    100  \n",
       "351118  1972.0  You know I can be found\\nSitting home all alon...    100  "
      ]
     },
     "execution_count": 31,
     "metadata": {},
     "output_type": "execute_result"
    }
   ],
   "source": [
    "elvis[elvis.ratio > 80].head(50)"
   ]
  },
  {
   "cell_type": "code",
   "execution_count": 32,
   "metadata": {},
   "outputs": [],
   "source": [
    "# from fuzzywuzzy.process import dedupe\n",
    "# test = dedupe(contains_dupes=elvis.song, scorer=fuzz.partial_ratio)"
   ]
  },
  {
   "cell_type": "code",
   "execution_count": 33,
   "metadata": {},
   "outputs": [],
   "source": [
    "lyrics = data.loc[~data.lyric.isnull()]"
   ]
  },
  {
   "cell_type": "code",
   "execution_count": 34,
   "metadata": {},
   "outputs": [
    {
     "data": {
      "text/plain": [
       "868243"
      ]
     },
     "execution_count": 34,
     "metadata": {},
     "output_type": "execute_result"
    }
   ],
   "source": [
    "len(lyrics)"
   ]
  },
  {
   "cell_type": "code",
   "execution_count": null,
   "metadata": {},
   "outputs": [],
   "source": []
  },
  {
   "cell_type": "code",
   "execution_count": 35,
   "metadata": {},
   "outputs": [],
   "source": [
    "lyrics_subset = lyrics.sample(10000, replace=False)"
   ]
  },
  {
   "cell_type": "code",
   "execution_count": 36,
   "metadata": {},
   "outputs": [
    {
     "data": {
      "text/plain": [
       "382600"
      ]
     },
     "execution_count": 36,
     "metadata": {},
     "output_type": "execute_result"
    }
   ],
   "source": [
    "data.lyric.isna().sum()"
   ]
  },
  {
   "cell_type": "code",
   "execution_count": 37,
   "metadata": {},
   "outputs": [],
   "source": [
    "import nltk"
   ]
  },
  {
   "cell_type": "code",
   "execution_count": 38,
   "metadata": {},
   "outputs": [],
   "source": [
    "tokens = lyrics_subset.lyric.apply(nltk.word_tokenize)\n",
    "# lyrics_subset.head()"
   ]
  },
  {
   "cell_type": "code",
   "execution_count": 39,
   "metadata": {},
   "outputs": [
    {
     "data": {
      "text/plain": [
       "1085466    [You, `, re, about, to, believe, in, love, aga...\n",
       "475964     [Eure, Liebe, überflutet, mich, Wir, brechen, ...\n",
       "770378     [You, do, n't, have, to, have, a, hanker, To, ...\n",
       "293672     [I, put, my, hand, into, my, pocket, I, found,...\n",
       "605992     [You, say, it, 's, time, to, stay, behind, All...\n",
       "                                 ...                        \n",
       "1197668    [Little, Jimmy, 's, gone, Way, out, of, the, b...\n",
       "876222     [It, 's, warm, in, here, ., I, see, you, ., So...\n",
       "540167     [Let, me, tell, you, bout, a, girl, I, know, s...\n",
       "2995       [Here, I, am, I, 'm, looking, for, a, place, t...\n",
       "488677     [``, What, 'd, you, do, last, night, ?, '', ``...\n",
       "Name: lyric, Length: 10000, dtype: object"
      ]
     },
     "execution_count": 39,
     "metadata": {},
     "output_type": "execute_result"
    }
   ],
   "source": [
    "tokens"
   ]
  },
  {
   "cell_type": "code",
   "execution_count": 40,
   "metadata": {},
   "outputs": [
    {
     "data": {
      "text/plain": [
       "<matplotlib.axes._subplots.AxesSubplot at 0x159f21d90>"
      ]
     },
     "execution_count": 40,
     "metadata": {},
     "output_type": "execute_result"
    },
    {
     "data": {
      "image/png": "[encoded data removed]",
      "text/plain": [
       "<Figure size 432x288 with 1 Axes>"
      ]
     },
     "metadata": {
      "needs_background": "light"
     },
     "output_type": "display_data"
    }
   ],
   "source": [
    "tokens.apply(len).hist(bins=100)"
   ]
  },
  {
   "cell_type": "code",
   "execution_count": 41,
   "metadata": {},
   "outputs": [
    {
     "data": {
      "text/plain": [
       "1"
      ]
     },
     "execution_count": 41,
     "metadata": {},
     "output_type": "execute_result"
    }
   ],
   "source": [
    "tokens.apply(len).min()"
   ]
  },
  {
   "cell_type": "code",
   "execution_count": 42,
   "metadata": {},
   "outputs": [
    {
     "data": {
      "text/plain": [
       "533532                   [[, Instrumental, ]]\n",
       "167581                         [sleepwalking]\n",
       "1021687     [oooooooooohhhhhh, aaaaaaahhhhhh]\n",
       "435384                   [[, instrumental, ]]\n",
       "237571                       [[, instr, ., ]]\n",
       "854497       [gon, na, make, you, come, back]\n",
       "1243484                  [(, instrumental, )]\n",
       "480124                                  [Sal]\n",
       "400613               [Dick, Kunc, :, Fade, !]\n",
       "904861                   [[, Instrumental, ]]\n",
       "713458                   [Otra, Bolero, Otra]\n",
       "18525                         [vocalizations]\n",
       "939451     [(, Geesin, ), (, Instrumental, )]\n",
       "219441                   [[, Instrumental, ]]\n",
       "867865                   [[, Instrumental, ]]\n",
       "1213048                  [(, Instrumental, )]\n",
       "645823                    [Turn, It, On, ...]\n",
       "1083478                  [[, Instrumental, ]]\n",
       "693924                   [[, Instrumental, ]]\n",
       "296816                        [[, Talking, ]]\n",
       "297058                        [Ass-N-Titties]\n",
       "253431                   [(, instrumental, )]\n",
       "Name: lyric, dtype: object"
      ]
     },
     "execution_count": 42,
     "metadata": {},
     "output_type": "execute_result"
    }
   ],
   "source": [
    "tokens[tokens.apply(len) < 7]"
   ]
  },
  {
   "cell_type": "code",
   "execution_count": 43,
   "metadata": {},
   "outputs": [],
   "source": [
    "# Remove stopwords\n",
    "from nltk.corpus import stopwords\n",
    "en_stops = set(stopwords.words('english'))\n",
    "\n",
    "tokens = tokens.apply(lambda x: [i for i in x if i not in en_stops])"
   ]
  },
  {
   "cell_type": "code",
   "execution_count": 44,
   "metadata": {},
   "outputs": [],
   "source": [
    "# Stem words\n",
    "from nltk.stem.porter import PorterStemmer\n",
    "\n",
    "tokens = tokens.apply(lambda x: [PorterStemmer().stem(i) for i in x])"
   ]
  },
  {
   "cell_type": "code",
   "execution_count": 45,
   "metadata": {},
   "outputs": [
    {
     "data": {
      "text/plain": [
       "<4x4 sparse matrix of type '<class 'numpy.float64'>'\n",
       "\twith 4 stored elements in Compressed Sparse Row format>"
      ]
     },
     "execution_count": 45,
     "metadata": {},
     "output_type": "execute_result"
    }
   ],
   "source": [
    "from sklearn.feature_extraction.text import TfidfVectorizer\n",
    "\n",
    "tfidf = TfidfVectorizer()\n",
    "tfidf.fit_transform(lyrics.sample(10000, replace=False))"
   ]
  },
  {
   "cell_type": "markdown",
   "metadata": {},
   "source": [
    "# Genre Data"
   ]
  },
  {
   "cell_type": "code",
   "execution_count": 46,
   "metadata": {},
   "outputs": [],
   "source": [
    "query = text('SELECT * FROM genre')\n",
    "genre_results = conn.execute(query).fetchall()\n",
    "genres = pd.DataFrame(genre_results)\n",
    "genres.columns = ['id', 'url', 'genre']"
   ]
  },
  {
   "cell_type": "code",
   "execution_count": 47,
   "metadata": {},
   "outputs": [
    {
     "name": "stdout",
     "output_type": "stream",
     "text": [
      "   id                                                url  \\\n",
      "0   1            /lyric/31028106/Leo+Dan/Por+Un+Caminito   \n",
      "1   2            /lyric/31028106/Leo+Dan/Por+Un+Caminito   \n",
      "2   3  /lyric/12198554/Tom+T.+Hall/More+About+John+Henry   \n",
      "3   4         /lyric/33853567/Garth+Brooks/Call+Me+Claus   \n",
      "4   5      /lyric/27330086/Cannonball+Adderley/Who+Cares   \n",
      "\n",
      "                    genre  \n",
      "0                   Latin  \n",
      "1                     Pop  \n",
      "2  Folk, World, & Country  \n",
      "3  Folk, World, & Country  \n",
      "4                    Jazz   (204687, 3) (134673,)\n"
     ]
    }
   ],
   "source": [
    "print(genres.head(), genres.shape, genres.url.unique().shape)"
   ]
  },
  {
   "cell_type": "code",
   "execution_count": 48,
   "metadata": {},
   "outputs": [
    {
     "data": {
      "text/html": [
       "<div>\n",
       "<style scoped>\n",
       "    .dataframe tbody tr th:only-of-type {\n",
       "        vertical-align: middle;\n",
       "    }\n",
       "\n",
       "    .dataframe tbody tr th {\n",
       "        vertical-align: top;\n",
       "    }\n",
       "\n",
       "    .dataframe thead th {\n",
       "        text-align: right;\n",
       "    }\n",
       "</style>\n",
       "<table border=\"1\" class=\"dataframe\">\n",
       "  <thead>\n",
       "    <tr style=\"text-align: right;\">\n",
       "      <th></th>\n",
       "      <th>id</th>\n",
       "      <th>genre</th>\n",
       "    </tr>\n",
       "    <tr>\n",
       "      <th>url</th>\n",
       "      <th></th>\n",
       "      <th></th>\n",
       "    </tr>\n",
       "  </thead>\n",
       "  <tbody>\n",
       "    <tr>\n",
       "      <th>/lyric/31537530/Angels+%26+Airwaves/The+Wolfpack</th>\n",
       "      <td>1</td>\n",
       "      <td>1</td>\n",
       "    </tr>\n",
       "    <tr>\n",
       "      <th>/lyric/5391852/Mai+Kuraki/Secret+of+My+Heart</th>\n",
       "      <td>1</td>\n",
       "      <td>1</td>\n",
       "    </tr>\n",
       "    <tr>\n",
       "      <th>/lyric/3157979/Victim%27s+Family/My+Evil+Twin</th>\n",
       "      <td>1</td>\n",
       "      <td>1</td>\n",
       "    </tr>\n",
       "    <tr>\n",
       "      <th>/lyric/31579690/Eko+Fresh/Gheddo+Reloaded</th>\n",
       "      <td>1</td>\n",
       "      <td>1</td>\n",
       "    </tr>\n",
       "    <tr>\n",
       "      <th>/lyric/31579686/Samy+Deluxe/Fettsackstyle</th>\n",
       "      <td>1</td>\n",
       "      <td>1</td>\n",
       "    </tr>\n",
       "    <tr>\n",
       "      <th>...</th>\n",
       "      <td>...</td>\n",
       "      <td>...</td>\n",
       "    </tr>\n",
       "    <tr>\n",
       "      <th>/lyric/2597435/Vonda+Shepard/I+Only+Want+to+Be+With+You</th>\n",
       "      <td>64</td>\n",
       "      <td>64</td>\n",
       "    </tr>\n",
       "    <tr>\n",
       "      <th>/lyric/1517645/Rosario/Mucho+Por+Vivir</th>\n",
       "      <td>65</td>\n",
       "      <td>65</td>\n",
       "    </tr>\n",
       "    <tr>\n",
       "      <th>/lyric/36191750/Banda+RPB/Metr%C3%B3pole</th>\n",
       "      <td>75</td>\n",
       "      <td>75</td>\n",
       "    </tr>\n",
       "    <tr>\n",
       "      <th>/lyric/33481194/Tori+Amos/In+the+Springtime+of+His+Voodoo</th>\n",
       "      <td>76</td>\n",
       "      <td>76</td>\n",
       "    </tr>\n",
       "    <tr>\n",
       "      <th>/lyric/33853301/Gabriella+Cilmi/Sweet+About+Me</th>\n",
       "      <td>80</td>\n",
       "      <td>80</td>\n",
       "    </tr>\n",
       "  </tbody>\n",
       "</table>\n",
       "<p>134673 rows × 2 columns</p>\n",
       "</div>"
      ],
      "text/plain": [
       "                                                    id  genre\n",
       "url                                                          \n",
       "/lyric/31537530/Angels+%26+Airwaves/The+Wolfpack     1      1\n",
       "/lyric/5391852/Mai+Kuraki/Secret+of+My+Heart         1      1\n",
       "/lyric/3157979/Victim%27s+Family/My+Evil+Twin        1      1\n",
       "/lyric/31579690/Eko+Fresh/Gheddo+Reloaded            1      1\n",
       "/lyric/31579686/Samy+Deluxe/Fettsackstyle            1      1\n",
       "...                                                 ..    ...\n",
       "/lyric/2597435/Vonda+Shepard/I+Only+Want+to+Be+...  64     64\n",
       "/lyric/1517645/Rosario/Mucho+Por+Vivir              65     65\n",
       "/lyric/36191750/Banda+RPB/Metr%C3%B3pole            75     75\n",
       "/lyric/33481194/Tori+Amos/In+the+Springtime+of+...  76     76\n",
       "/lyric/33853301/Gabriella+Cilmi/Sweet+About+Me      80     80\n",
       "\n",
       "[134673 rows x 2 columns]"
      ]
     },
     "execution_count": 48,
     "metadata": {},
     "output_type": "execute_result"
    }
   ],
   "source": [
    "genres.groupby('url').count().sort_values('genre')"
   ]
  },
  {
   "cell_type": "code",
   "execution_count": 49,
   "metadata": {},
   "outputs": [
    {
     "data": {
      "text/plain": [
       "<matplotlib.axes._subplots.AxesSubplot at 0x15a1a6090>"
      ]
     },
     "execution_count": 49,
     "metadata": {},
     "output_type": "execute_result"
    },
    {
     "data": {
      "image/png": "[encoded data removed]",
      "text/plain": [
       "<Figure size 432x288 with 1 Axes>"
      ]
     },
     "metadata": {
      "needs_background": "light"
     },
     "output_type": "display_data"
    }
   ],
   "source": [
    "genres.groupby('url').count().genre.hist(bins=100)"
   ]
  },
  {
   "cell_type": "code",
   "execution_count": 50,
   "metadata": {},
   "outputs": [
    {
     "data": {
      "text/html": [
       "<div>\n",
       "<style scoped>\n",
       "    .dataframe tbody tr th:only-of-type {\n",
       "        vertical-align: middle;\n",
       "    }\n",
       "\n",
       "    .dataframe tbody tr th {\n",
       "        vertical-align: top;\n",
       "    }\n",
       "\n",
       "    .dataframe thead th {\n",
       "        text-align: right;\n",
       "    }\n",
       "</style>\n",
       "<table border=\"1\" class=\"dataframe\">\n",
       "  <thead>\n",
       "    <tr style=\"text-align: right;\">\n",
       "      <th></th>\n",
       "      <th>id</th>\n",
       "      <th>url</th>\n",
       "    </tr>\n",
       "    <tr>\n",
       "      <th>genre</th>\n",
       "      <th></th>\n",
       "      <th></th>\n",
       "    </tr>\n",
       "  </thead>\n",
       "  <tbody>\n",
       "    <tr>\n",
       "      <th>Rock</th>\n",
       "      <td>56226</td>\n",
       "      <td>56226</td>\n",
       "    </tr>\n",
       "    <tr>\n",
       "      <th>Pop</th>\n",
       "      <td>46089</td>\n",
       "      <td>46089</td>\n",
       "    </tr>\n",
       "    <tr>\n",
       "      <th>Jazz</th>\n",
       "      <td>18897</td>\n",
       "      <td>18897</td>\n",
       "    </tr>\n",
       "    <tr>\n",
       "      <th>Electronic</th>\n",
       "      <td>17622</td>\n",
       "      <td>17622</td>\n",
       "    </tr>\n",
       "    <tr>\n",
       "      <th>Folk, World, &amp; Country</th>\n",
       "      <td>17236</td>\n",
       "      <td>17236</td>\n",
       "    </tr>\n",
       "    <tr>\n",
       "      <th>Hip Hop</th>\n",
       "      <td>14935</td>\n",
       "      <td>14935</td>\n",
       "    </tr>\n",
       "    <tr>\n",
       "      <th>Funk / Soul</th>\n",
       "      <td>12355</td>\n",
       "      <td>12355</td>\n",
       "    </tr>\n",
       "    <tr>\n",
       "      <th>Latin</th>\n",
       "      <td>7190</td>\n",
       "      <td>7190</td>\n",
       "    </tr>\n",
       "    <tr>\n",
       "      <th>Blues</th>\n",
       "      <td>5270</td>\n",
       "      <td>5270</td>\n",
       "    </tr>\n",
       "    <tr>\n",
       "      <th>Stage &amp; Screen</th>\n",
       "      <td>3512</td>\n",
       "      <td>3512</td>\n",
       "    </tr>\n",
       "    <tr>\n",
       "      <th>Reggae</th>\n",
       "      <td>2853</td>\n",
       "      <td>2853</td>\n",
       "    </tr>\n",
       "    <tr>\n",
       "      <th>Classical</th>\n",
       "      <td>889</td>\n",
       "      <td>889</td>\n",
       "    </tr>\n",
       "    <tr>\n",
       "      <th>genre</th>\n",
       "      <td>850</td>\n",
       "      <td>850</td>\n",
       "    </tr>\n",
       "    <tr>\n",
       "      <th>Non-Music</th>\n",
       "      <td>367</td>\n",
       "      <td>367</td>\n",
       "    </tr>\n",
       "    <tr>\n",
       "      <th>Children's</th>\n",
       "      <td>349</td>\n",
       "      <td>349</td>\n",
       "    </tr>\n",
       "    <tr>\n",
       "      <th>Brass &amp; Military</th>\n",
       "      <td>26</td>\n",
       "      <td>26</td>\n",
       "    </tr>\n",
       "    <tr>\n",
       "      <th>genres</th>\n",
       "      <td>8</td>\n",
       "      <td>8</td>\n",
       "    </tr>\n",
       "    <tr>\n",
       "      <th>Ce genre de Mec</th>\n",
       "      <td>5</td>\n",
       "      <td>5</td>\n",
       "    </tr>\n",
       "    <tr>\n",
       "      <th>Rapgenre</th>\n",
       "      <td>2</td>\n",
       "      <td>2</td>\n",
       "    </tr>\n",
       "    <tr>\n",
       "      <th>Ce genre</th>\n",
       "      <td>2</td>\n",
       "      <td>2</td>\n",
       "    </tr>\n",
       "    <tr>\n",
       "      <th>Le genre féminin</th>\n",
       "      <td>1</td>\n",
       "      <td>1</td>\n",
       "    </tr>\n",
       "    <tr>\n",
       "      <th>Ce genre Lyrics</th>\n",
       "      <td>1</td>\n",
       "      <td>1</td>\n",
       "    </tr>\n",
       "    <tr>\n",
       "      <th>transgenres</th>\n",
       "      <td>1</td>\n",
       "      <td>1</td>\n",
       "    </tr>\n",
       "    <tr>\n",
       "      <th>Buy This Song</th>\n",
       "      <td>1</td>\n",
       "      <td>1</td>\n",
       "    </tr>\n",
       "  </tbody>\n",
       "</table>\n",
       "</div>"
      ],
      "text/plain": [
       "                           id    url\n",
       "genre                               \n",
       "Rock                    56226  56226\n",
       "Pop                     46089  46089\n",
       "Jazz                    18897  18897\n",
       "Electronic              17622  17622\n",
       "Folk, World, & Country  17236  17236\n",
       "Hip Hop                 14935  14935\n",
       "Funk / Soul             12355  12355\n",
       "Latin                    7190   7190\n",
       "Blues                    5270   5270\n",
       "Stage & Screen           3512   3512\n",
       "Reggae                   2853   2853\n",
       "Classical                 889    889\n",
       "genre                     850    850\n",
       "Non-Music                 367    367\n",
       "Children's                349    349\n",
       "Brass & Military           26     26\n",
       "genres                      8      8\n",
       "Ce genre de Mec             5      5\n",
       "Rapgenre                    2      2\n",
       "Ce genre                    2      2\n",
       "Le genre féminin            1      1\n",
       "Ce genre Lyrics             1      1\n",
       "transgenres                 1      1\n",
       " Buy This Song              1      1"
      ]
     },
     "execution_count": 50,
     "metadata": {},
     "output_type": "execute_result"
    }
   ],
   "source": [
    "genres.groupby('genre').count().sort_values('id', ascending=False)"
   ]
  },
  {
   "cell_type": "markdown",
   "metadata": {},
   "source": [
    "## Word Clouds"
   ]
  },
  {
   "cell_type": "code",
   "execution_count": 51,
   "metadata": {},
   "outputs": [
    {
     "data": {
      "text/html": [
       "<div>\n",
       "<style scoped>\n",
       "    .dataframe tbody tr th:only-of-type {\n",
       "        vertical-align: middle;\n",
       "    }\n",
       "\n",
       "    .dataframe tbody tr th {\n",
       "        vertical-align: top;\n",
       "    }\n",
       "\n",
       "    .dataframe thead tr th {\n",
       "        text-align: left;\n",
       "    }\n",
       "\n",
       "    .dataframe thead tr:last-of-type th {\n",
       "        text-align: right;\n",
       "    }\n",
       "</style>\n",
       "<table border=\"1\" class=\"dataframe\">\n",
       "  <thead>\n",
       "    <tr>\n",
       "      <th></th>\n",
       "      <th colspan=\"12\" halign=\"left\">id</th>\n",
       "    </tr>\n",
       "    <tr>\n",
       "      <th>genre</th>\n",
       "      <th>Blues</th>\n",
       "      <th>Children's</th>\n",
       "      <th>Electronic</th>\n",
       "      <th>Folk, World, &amp; Country</th>\n",
       "      <th>Funk / Soul</th>\n",
       "      <th>Hip Hop</th>\n",
       "      <th>Jazz</th>\n",
       "      <th>Latin</th>\n",
       "      <th>Non-Music</th>\n",
       "      <th>Pop</th>\n",
       "      <th>Rock</th>\n",
       "      <th>Stage &amp; Screen</th>\n",
       "    </tr>\n",
       "    <tr>\n",
       "      <th>url</th>\n",
       "      <th></th>\n",
       "      <th></th>\n",
       "      <th></th>\n",
       "      <th></th>\n",
       "      <th></th>\n",
       "      <th></th>\n",
       "      <th></th>\n",
       "      <th></th>\n",
       "      <th></th>\n",
       "      <th></th>\n",
       "      <th></th>\n",
       "      <th></th>\n",
       "    </tr>\n",
       "  </thead>\n",
       "  <tbody>\n",
       "    <tr>\n",
       "      <th>/lyric/10070915/Frank+Sinatra/Mighty+Lak%27a+Rose</th>\n",
       "      <td>NaN</td>\n",
       "      <td>NaN</td>\n",
       "      <td>NaN</td>\n",
       "      <td>NaN</td>\n",
       "      <td>NaN</td>\n",
       "      <td>NaN</td>\n",
       "      <td>19.0</td>\n",
       "      <td>NaN</td>\n",
       "      <td>NaN</td>\n",
       "      <td>NaN</td>\n",
       "      <td>NaN</td>\n",
       "      <td>NaN</td>\n",
       "    </tr>\n",
       "    <tr>\n",
       "      <th>/lyric/10154255/In+the+Woods.../Let+There+Be+More+Light</th>\n",
       "      <td>NaN</td>\n",
       "      <td>NaN</td>\n",
       "      <td>NaN</td>\n",
       "      <td>NaN</td>\n",
       "      <td>NaN</td>\n",
       "      <td>NaN</td>\n",
       "      <td>NaN</td>\n",
       "      <td>NaN</td>\n",
       "      <td>NaN</td>\n",
       "      <td>NaN</td>\n",
       "      <td>81.0</td>\n",
       "      <td>NaN</td>\n",
       "    </tr>\n",
       "    <tr>\n",
       "      <th>/lyric/10221098/Charles+Bullock/All+That+I%27m+Allowed+%28I%27m+Thankful%29</th>\n",
       "      <td>NaN</td>\n",
       "      <td>NaN</td>\n",
       "      <td>NaN</td>\n",
       "      <td>NaN</td>\n",
       "      <td>NaN</td>\n",
       "      <td>NaN</td>\n",
       "      <td>NaN</td>\n",
       "      <td>NaN</td>\n",
       "      <td>NaN</td>\n",
       "      <td>NaN</td>\n",
       "      <td>36.0</td>\n",
       "      <td>NaN</td>\n",
       "    </tr>\n",
       "    <tr>\n",
       "      <th>/lyric/11945724/Ben%27s+Brother/Carry+On</th>\n",
       "      <td>NaN</td>\n",
       "      <td>NaN</td>\n",
       "      <td>NaN</td>\n",
       "      <td>NaN</td>\n",
       "      <td>NaN</td>\n",
       "      <td>NaN</td>\n",
       "      <td>NaN</td>\n",
       "      <td>NaN</td>\n",
       "      <td>NaN</td>\n",
       "      <td>NaN</td>\n",
       "      <td>12.0</td>\n",
       "      <td>NaN</td>\n",
       "    </tr>\n",
       "    <tr>\n",
       "      <th>/lyric/12198554/Tom+T.+Hall/More+About+John+Henry</th>\n",
       "      <td>NaN</td>\n",
       "      <td>NaN</td>\n",
       "      <td>NaN</td>\n",
       "      <td>3.0</td>\n",
       "      <td>NaN</td>\n",
       "      <td>NaN</td>\n",
       "      <td>NaN</td>\n",
       "      <td>NaN</td>\n",
       "      <td>NaN</td>\n",
       "      <td>NaN</td>\n",
       "      <td>NaN</td>\n",
       "      <td>NaN</td>\n",
       "    </tr>\n",
       "    <tr>\n",
       "      <th>...</th>\n",
       "      <td>...</td>\n",
       "      <td>...</td>\n",
       "      <td>...</td>\n",
       "      <td>...</td>\n",
       "      <td>...</td>\n",
       "      <td>...</td>\n",
       "      <td>...</td>\n",
       "      <td>...</td>\n",
       "      <td>...</td>\n",
       "      <td>...</td>\n",
       "      <td>...</td>\n",
       "      <td>...</td>\n",
       "    </tr>\n",
       "    <tr>\n",
       "      <th>/lyric/8245115/Dyango/Suspiros+de+Espa%C3%B1a</th>\n",
       "      <td>NaN</td>\n",
       "      <td>NaN</td>\n",
       "      <td>NaN</td>\n",
       "      <td>90.0</td>\n",
       "      <td>NaN</td>\n",
       "      <td>NaN</td>\n",
       "      <td>NaN</td>\n",
       "      <td>NaN</td>\n",
       "      <td>NaN</td>\n",
       "      <td>91.0</td>\n",
       "      <td>NaN</td>\n",
       "      <td>NaN</td>\n",
       "    </tr>\n",
       "    <tr>\n",
       "      <th>/lyric/967424/Gamilah+Shabazz/Who+Am+I%3F</th>\n",
       "      <td>NaN</td>\n",
       "      <td>NaN</td>\n",
       "      <td>NaN</td>\n",
       "      <td>NaN</td>\n",
       "      <td>NaN</td>\n",
       "      <td>53.0</td>\n",
       "      <td>NaN</td>\n",
       "      <td>NaN</td>\n",
       "      <td>NaN</td>\n",
       "      <td>NaN</td>\n",
       "      <td>NaN</td>\n",
       "      <td>NaN</td>\n",
       "    </tr>\n",
       "    <tr>\n",
       "      <th>/lyric/9837694/The+Chiffons/Sailor+Boy</th>\n",
       "      <td>NaN</td>\n",
       "      <td>NaN</td>\n",
       "      <td>NaN</td>\n",
       "      <td>NaN</td>\n",
       "      <td>NaN</td>\n",
       "      <td>NaN</td>\n",
       "      <td>NaN</td>\n",
       "      <td>NaN</td>\n",
       "      <td>NaN</td>\n",
       "      <td>NaN</td>\n",
       "      <td>55.0</td>\n",
       "      <td>NaN</td>\n",
       "    </tr>\n",
       "    <tr>\n",
       "      <th>/lyric/9884889/Whitney+Houston/My+Heart+Is+Calling</th>\n",
       "      <td>NaN</td>\n",
       "      <td>NaN</td>\n",
       "      <td>NaN</td>\n",
       "      <td>NaN</td>\n",
       "      <td>76.0</td>\n",
       "      <td>NaN</td>\n",
       "      <td>NaN</td>\n",
       "      <td>NaN</td>\n",
       "      <td>NaN</td>\n",
       "      <td>NaN</td>\n",
       "      <td>NaN</td>\n",
       "      <td>NaN</td>\n",
       "    </tr>\n",
       "    <tr>\n",
       "      <th>/lyric/9988334/Sy+Oliver/Because+of+You</th>\n",
       "      <td>NaN</td>\n",
       "      <td>NaN</td>\n",
       "      <td>NaN</td>\n",
       "      <td>NaN</td>\n",
       "      <td>NaN</td>\n",
       "      <td>NaN</td>\n",
       "      <td>64.0</td>\n",
       "      <td>NaN</td>\n",
       "      <td>NaN</td>\n",
       "      <td>65.0</td>\n",
       "      <td>NaN</td>\n",
       "      <td>NaN</td>\n",
       "    </tr>\n",
       "  </tbody>\n",
       "</table>\n",
       "<p>73 rows × 12 columns</p>\n",
       "</div>"
      ],
      "text/plain": [
       "                                                      id             \\\n",
       "genre                                              Blues Children's   \n",
       "url                                                                   \n",
       "/lyric/10070915/Frank+Sinatra/Mighty+Lak%27a+Rose    NaN        NaN   \n",
       "/lyric/10154255/In+the+Woods.../Let+There+Be+Mo...   NaN        NaN   \n",
       "/lyric/10221098/Charles+Bullock/All+That+I%27m+...   NaN        NaN   \n",
       "/lyric/11945724/Ben%27s+Brother/Carry+On             NaN        NaN   \n",
       "/lyric/12198554/Tom+T.+Hall/More+About+John+Henry    NaN        NaN   \n",
       "...                                                  ...        ...   \n",
       "/lyric/8245115/Dyango/Suspiros+de+Espa%C3%B1a        NaN        NaN   \n",
       "/lyric/967424/Gamilah+Shabazz/Who+Am+I%3F            NaN        NaN   \n",
       "/lyric/9837694/The+Chiffons/Sailor+Boy               NaN        NaN   \n",
       "/lyric/9884889/Whitney+Houston/My+Heart+Is+Calling   NaN        NaN   \n",
       "/lyric/9988334/Sy+Oliver/Because+of+You              NaN        NaN   \n",
       "\n",
       "                                                               \\\n",
       "genre                                              Electronic   \n",
       "url                                                             \n",
       "/lyric/10070915/Frank+Sinatra/Mighty+Lak%27a+Rose         NaN   \n",
       "/lyric/10154255/In+the+Woods.../Let+There+Be+Mo...        NaN   \n",
       "/lyric/10221098/Charles+Bullock/All+That+I%27m+...        NaN   \n",
       "/lyric/11945724/Ben%27s+Brother/Carry+On                  NaN   \n",
       "/lyric/12198554/Tom+T.+Hall/More+About+John+Henry         NaN   \n",
       "...                                                       ...   \n",
       "/lyric/8245115/Dyango/Suspiros+de+Espa%C3%B1a             NaN   \n",
       "/lyric/967424/Gamilah+Shabazz/Who+Am+I%3F                 NaN   \n",
       "/lyric/9837694/The+Chiffons/Sailor+Boy                    NaN   \n",
       "/lyric/9884889/Whitney+Houston/My+Heart+Is+Calling        NaN   \n",
       "/lyric/9988334/Sy+Oliver/Because+of+You                   NaN   \n",
       "\n",
       "                                                                           \\\n",
       "genre                                              Folk, World, & Country   \n",
       "url                                                                         \n",
       "/lyric/10070915/Frank+Sinatra/Mighty+Lak%27a+Rose                     NaN   \n",
       "/lyric/10154255/In+the+Woods.../Let+There+Be+Mo...                    NaN   \n",
       "/lyric/10221098/Charles+Bullock/All+That+I%27m+...                    NaN   \n",
       "/lyric/11945724/Ben%27s+Brother/Carry+On                              NaN   \n",
       "/lyric/12198554/Tom+T.+Hall/More+About+John+Henry                     3.0   \n",
       "...                                                                   ...   \n",
       "/lyric/8245115/Dyango/Suspiros+de+Espa%C3%B1a                        90.0   \n",
       "/lyric/967424/Gamilah+Shabazz/Who+Am+I%3F                             NaN   \n",
       "/lyric/9837694/The+Chiffons/Sailor+Boy                                NaN   \n",
       "/lyric/9884889/Whitney+Houston/My+Heart+Is+Calling                    NaN   \n",
       "/lyric/9988334/Sy+Oliver/Because+of+You                               NaN   \n",
       "\n",
       "                                                                              \\\n",
       "genre                                              Funk / Soul Hip Hop  Jazz   \n",
       "url                                                                            \n",
       "/lyric/10070915/Frank+Sinatra/Mighty+Lak%27a+Rose          NaN     NaN  19.0   \n",
       "/lyric/10154255/In+the+Woods.../Let+There+Be+Mo...         NaN     NaN   NaN   \n",
       "/lyric/10221098/Charles+Bullock/All+That+I%27m+...         NaN     NaN   NaN   \n",
       "/lyric/11945724/Ben%27s+Brother/Carry+On                   NaN     NaN   NaN   \n",
       "/lyric/12198554/Tom+T.+Hall/More+About+John+Henry          NaN     NaN   NaN   \n",
       "...                                                        ...     ...   ...   \n",
       "/lyric/8245115/Dyango/Suspiros+de+Espa%C3%B1a              NaN     NaN   NaN   \n",
       "/lyric/967424/Gamilah+Shabazz/Who+Am+I%3F                  NaN    53.0   NaN   \n",
       "/lyric/9837694/The+Chiffons/Sailor+Boy                     NaN     NaN   NaN   \n",
       "/lyric/9884889/Whitney+Houston/My+Heart+Is+Calling        76.0     NaN   NaN   \n",
       "/lyric/9988334/Sy+Oliver/Because+of+You                    NaN     NaN  64.0   \n",
       "\n",
       "                                                                          \\\n",
       "genre                                              Latin Non-Music   Pop   \n",
       "url                                                                        \n",
       "/lyric/10070915/Frank+Sinatra/Mighty+Lak%27a+Rose    NaN       NaN   NaN   \n",
       "/lyric/10154255/In+the+Woods.../Let+There+Be+Mo...   NaN       NaN   NaN   \n",
       "/lyric/10221098/Charles+Bullock/All+That+I%27m+...   NaN       NaN   NaN   \n",
       "/lyric/11945724/Ben%27s+Brother/Carry+On             NaN       NaN   NaN   \n",
       "/lyric/12198554/Tom+T.+Hall/More+About+John+Henry    NaN       NaN   NaN   \n",
       "...                                                  ...       ...   ...   \n",
       "/lyric/8245115/Dyango/Suspiros+de+Espa%C3%B1a        NaN       NaN  91.0   \n",
       "/lyric/967424/Gamilah+Shabazz/Who+Am+I%3F            NaN       NaN   NaN   \n",
       "/lyric/9837694/The+Chiffons/Sailor+Boy               NaN       NaN   NaN   \n",
       "/lyric/9884889/Whitney+Houston/My+Heart+Is+Calling   NaN       NaN   NaN   \n",
       "/lyric/9988334/Sy+Oliver/Because+of+You              NaN       NaN  65.0   \n",
       "\n",
       "                                                                         \n",
       "genre                                               Rock Stage & Screen  \n",
       "url                                                                      \n",
       "/lyric/10070915/Frank+Sinatra/Mighty+Lak%27a+Rose    NaN            NaN  \n",
       "/lyric/10154255/In+the+Woods.../Let+There+Be+Mo...  81.0            NaN  \n",
       "/lyric/10221098/Charles+Bullock/All+That+I%27m+...  36.0            NaN  \n",
       "/lyric/11945724/Ben%27s+Brother/Carry+On            12.0            NaN  \n",
       "/lyric/12198554/Tom+T.+Hall/More+About+John+Henry    NaN            NaN  \n",
       "...                                                  ...            ...  \n",
       "/lyric/8245115/Dyango/Suspiros+de+Espa%C3%B1a        NaN            NaN  \n",
       "/lyric/967424/Gamilah+Shabazz/Who+Am+I%3F            NaN            NaN  \n",
       "/lyric/9837694/The+Chiffons/Sailor+Boy              55.0            NaN  \n",
       "/lyric/9884889/Whitney+Houston/My+Heart+Is+Calling   NaN            NaN  \n",
       "/lyric/9988334/Sy+Oliver/Because+of+You              NaN            NaN  \n",
       "\n",
       "[73 rows x 12 columns]"
      ]
     },
     "execution_count": 51,
     "metadata": {},
     "output_type": "execute_result"
    }
   ],
   "source": [
    "genres[0:100].pivot(index='url', columns='genre')"
   ]
  },
  {
   "cell_type": "code",
   "execution_count": 52,
   "metadata": {},
   "outputs": [],
   "source": [
    "genres = genres.drop('id', axis=1)"
   ]
  },
  {
   "cell_type": "code",
   "execution_count": 53,
   "metadata": {},
   "outputs": [],
   "source": [
    "genres = genres.drop_duplicates()"
   ]
  },
  {
   "cell_type": "code",
   "execution_count": 54,
   "metadata": {},
   "outputs": [
    {
     "data": {
      "text/html": [
       "<div>\n",
       "<style scoped>\n",
       "    .dataframe tbody tr th:only-of-type {\n",
       "        vertical-align: middle;\n",
       "    }\n",
       "\n",
       "    .dataframe tbody tr th {\n",
       "        vertical-align: top;\n",
       "    }\n",
       "\n",
       "    .dataframe thead th {\n",
       "        text-align: right;\n",
       "    }\n",
       "</style>\n",
       "<table border=\"1\" class=\"dataframe\">\n",
       "  <thead>\n",
       "    <tr style=\"text-align: right;\">\n",
       "      <th></th>\n",
       "      <th>genre</th>\n",
       "    </tr>\n",
       "    <tr>\n",
       "      <th>url</th>\n",
       "      <th></th>\n",
       "    </tr>\n",
       "  </thead>\n",
       "  <tbody>\n",
       "    <tr>\n",
       "      <th>/lyric/31537530/Angels+%26+Airwaves/The+Wolfpack</th>\n",
       "      <td>1</td>\n",
       "    </tr>\n",
       "    <tr>\n",
       "      <th>/lyric/31677152/dEUS/Theme+from+Turnpike</th>\n",
       "      <td>1</td>\n",
       "    </tr>\n",
       "    <tr>\n",
       "      <th>/lyric/3167636/Finger+Eleven/Tip</th>\n",
       "      <td>1</td>\n",
       "    </tr>\n",
       "    <tr>\n",
       "      <th>/lyric/31676106/Human/Human</th>\n",
       "      <td>1</td>\n",
       "    </tr>\n",
       "    <tr>\n",
       "      <th>/lyric/5523528/Deadsy/The+Elements</th>\n",
       "      <td>1</td>\n",
       "    </tr>\n",
       "    <tr>\n",
       "      <th>...</th>\n",
       "      <td>...</td>\n",
       "    </tr>\n",
       "    <tr>\n",
       "      <th>/lyric/30913048/Bleachers/Rollercoaster</th>\n",
       "      <td>7</td>\n",
       "    </tr>\n",
       "    <tr>\n",
       "      <th>/lyric/5546266/Frankie+Miller/Just+One+of+Those+Things</th>\n",
       "      <td>7</td>\n",
       "    </tr>\n",
       "    <tr>\n",
       "      <th>/lyric/23165580/Al+Green/Everything%27s+Gonna+Be+Alright</th>\n",
       "      <td>8</td>\n",
       "    </tr>\n",
       "    <tr>\n",
       "      <th>/lyric/33391363/Daniela+Mercury/Trio+Em+Transe</th>\n",
       "      <td>9</td>\n",
       "    </tr>\n",
       "    <tr>\n",
       "      <th>/lyric/33231719/Kelly+Clarkson/Wrapped+in+Red</th>\n",
       "      <td>9</td>\n",
       "    </tr>\n",
       "  </tbody>\n",
       "</table>\n",
       "<p>134673 rows × 1 columns</p>\n",
       "</div>"
      ],
      "text/plain": [
       "                                                    genre\n",
       "url                                                      \n",
       "/lyric/31537530/Angels+%26+Airwaves/The+Wolfpack        1\n",
       "/lyric/31677152/dEUS/Theme+from+Turnpike                1\n",
       "/lyric/3167636/Finger+Eleven/Tip                        1\n",
       "/lyric/31676106/Human/Human                             1\n",
       "/lyric/5523528/Deadsy/The+Elements                      1\n",
       "...                                                   ...\n",
       "/lyric/30913048/Bleachers/Rollercoaster                 7\n",
       "/lyric/5546266/Frankie+Miller/Just+One+of+Those...      7\n",
       "/lyric/23165580/Al+Green/Everything%27s+Gonna+B...      8\n",
       "/lyric/33391363/Daniela+Mercury/Trio+Em+Transe          9\n",
       "/lyric/33231719/Kelly+Clarkson/Wrapped+in+Red           9\n",
       "\n",
       "[134673 rows x 1 columns]"
      ]
     },
     "execution_count": 54,
     "metadata": {},
     "output_type": "execute_result"
    }
   ],
   "source": [
    "genres.groupby('url').count().sort_values('genre')"
   ]
  },
  {
   "cell_type": "code",
   "execution_count": 55,
   "metadata": {},
   "outputs": [
    {
     "data": {
      "image/png": "[encoded data removed]",
      "text/plain": [
       "<Figure size 432x288 with 1 Axes>"
      ]
     },
     "metadata": {
      "needs_background": "light"
     },
     "output_type": "display_data"
    }
   ],
   "source": [
    "genres.groupby('url').count().genre.hist(bins=9)\n",
    "plt.show()"
   ]
  },
  {
   "cell_type": "code",
   "execution_count": 56,
   "metadata": {},
   "outputs": [
    {
     "data": {
      "text/plain": [
       "<pandas.core.groupby.generic.DataFrameGroupBy object at 0x163c81a50>"
      ]
     },
     "execution_count": 56,
     "metadata": {},
     "output_type": "execute_result"
    }
   ],
   "source": [
    "genres.groupby('url')"
   ]
  },
  {
   "cell_type": "code",
   "execution_count": 57,
   "metadata": {},
   "outputs": [],
   "source": [
    "# Create table of proportions\n",
    "g_table = genres.pivot(index='url', columns='genre', values='genre')\n",
    "g_table[g_table.isna()] = 0\n",
    "g_table[g_table != 0] = 1\n",
    "# g_table.apply(lambda x: x/sum(x), axis=1)"
   ]
  },
  {
   "cell_type": "code",
   "execution_count": 58,
   "metadata": {},
   "outputs": [
    {
     "data": {
      "text/plain": [
       "genre\n",
       "Blues                     1.000000\n",
       "Rock                      0.315381\n",
       "Jazz                      0.173980\n",
       "Funk / Soul               0.122784\n",
       "Pop                       0.110151\n",
       "Folk, World, & Country    0.090426\n",
       "Hip Hop                   0.008865\n",
       "Stage & Screen            0.007979\n",
       "Electronic                0.006871\n",
       "Latin                     0.004211\n",
       "Reggae                    0.002660\n",
       "Non-Music                 0.002216\n",
       "Classical                 0.000665\n",
       "Children's                0.000443\n",
       "Brass & Military          0.000222\n",
       "Ce genre                  0.000000\n",
       "Ce genre Lyrics           0.000000\n",
       "Ce genre de Mec           0.000000\n",
       "genre                     0.000000\n",
       "transgenres               0.000000\n",
       "Le genre féminin          0.000000\n",
       "Rapgenre                  0.000000\n",
       "genres                    0.000000\n",
       " Buy This Song            0.000000\n",
       "dtype: float64"
      ]
     },
     "execution_count": 58,
     "metadata": {},
     "output_type": "execute_result"
    }
   ],
   "source": [
    "g_table[g_table['Blues'] == 1].apply(lambda x: sum(x)/sum(g_table['Blues'])).sort_values(ascending=False)"
   ]
  },
  {
   "cell_type": "code",
   "execution_count": 59,
   "metadata": {},
   "outputs": [],
   "source": [
    "genre_pct = (genres.genre.value_counts()/len(genres))\n",
    "genre_gt1pct = genre_pct[genre_pct > 0.01].index.tolist()\n",
    "genre_gt5pct = genre_pct[genre_pct > 0.05].index.tolist()"
   ]
  },
  {
   "cell_type": "code",
   "execution_count": 60,
   "metadata": {},
   "outputs": [
    {
     "data": {
      "text/plain": [
       "7"
      ]
     },
     "execution_count": 60,
     "metadata": {},
     "output_type": "execute_result"
    }
   ],
   "source": [
    "len(genre_gt5pct)"
   ]
  },
  {
   "cell_type": "code",
   "execution_count": 61,
   "metadata": {},
   "outputs": [],
   "source": [
    "genre_trimmed = genres[genres.genre.isin(genre_gt5pct)]"
   ]
  },
  {
   "cell_type": "code",
   "execution_count": 62,
   "metadata": {},
   "outputs": [
    {
     "data": {
      "text/plain": [
       "array([[<matplotlib.axes._subplots.AxesSubplot object at 0x143ef7150>]],\n",
       "      dtype=object)"
      ]
     },
     "execution_count": 62,
     "metadata": {},
     "output_type": "execute_result"
    },
    {
     "data": {
      "image/png": "[encoded data removed]",
      "text/plain": [
       "<Figure size 432x288 with 1 Axes>"
      ]
     },
     "metadata": {
      "needs_background": "light"
     },
     "output_type": "display_data"
    }
   ],
   "source": [
    "genre_trimmed.groupby('url').count().hist(bins=6)"
   ]
  },
  {
   "cell_type": "code",
   "execution_count": 63,
   "metadata": {},
   "outputs": [],
   "source": [
    "single_genre = genres.groupby('url').count()\n",
    "single_genre = single_genre[single_genre.genre == 1].index.tolist()"
   ]
  },
  {
   "cell_type": "code",
   "execution_count": 64,
   "metadata": {},
   "outputs": [],
   "source": [
    "test = genres[genres.url.isin(single_genre)]"
   ]
  },
  {
   "cell_type": "code",
   "execution_count": 65,
   "metadata": {},
   "outputs": [
    {
     "data": {
      "text/plain": [
       "Rock                      31475\n",
       "Pop                       16132\n",
       "Folk, World, & Country    10047\n",
       "Jazz                       9785\n",
       "Hip Hop                    9781\n",
       "Electronic                 7304\n",
       "Funk / Soul                5784\n",
       "Latin                      2471\n",
       "Reggae                     1759\n",
       "Blues                      1756\n",
       "Stage & Screen              654\n",
       "genre                       545\n",
       "Classical                   317\n",
       "Children's                   92\n",
       "Non-Music                    43\n",
       "Brass & Military              9\n",
       "genres                        6\n",
       "Ce genre de Mec               5\n",
       "Ce genre                      2\n",
       "transgenres                   1\n",
       "Le genre féminin              1\n",
       "Name: genre, dtype: int64"
      ]
     },
     "execution_count": 65,
     "metadata": {},
     "output_type": "execute_result"
    }
   ],
   "source": [
    "test.genre.value_counts()"
   ]
  },
  {
   "cell_type": "code",
   "execution_count": null,
   "metadata": {},
   "outputs": [],
   "source": []
  },
  {
   "cell_type": "code",
   "execution_count": null,
   "metadata": {},
   "outputs": [],
   "source": []
  },
  {
   "cell_type": "code",
   "execution_count": null,
   "metadata": {},
   "outputs": [],
   "source": []
  },
  {
   "cell_type": "code",
   "execution_count": null,
   "metadata": {},
   "outputs": [],
   "source": []
  },
  {
   "cell_type": "markdown",
   "metadata": {},
   "source": [
    "# Document modeling"
   ]
  },
  {
   "cell_type": "code",
   "execution_count": 66,
   "metadata": {
    "scrolled": false
   },
   "outputs": [
    {
     "data": {
      "text/html": [
       "<div>\n",
       "<style scoped>\n",
       "    .dataframe tbody tr th:only-of-type {\n",
       "        vertical-align: middle;\n",
       "    }\n",
       "\n",
       "    .dataframe tbody tr th {\n",
       "        vertical-align: top;\n",
       "    }\n",
       "\n",
       "    .dataframe thead th {\n",
       "        text-align: right;\n",
       "    }\n",
       "</style>\n",
       "<table border=\"1\" class=\"dataframe\">\n",
       "  <thead>\n",
       "    <tr style=\"text-align: right;\">\n",
       "      <th></th>\n",
       "      <th>artist</th>\n",
       "      <th>song</th>\n",
       "      <th>year</th>\n",
       "      <th>url</th>\n",
       "      <th>lyric</th>\n",
       "      <th>genre</th>\n",
       "    </tr>\n",
       "  </thead>\n",
       "  <tbody>\n",
       "    <tr>\n",
       "      <th>0</th>\n",
       "      <td>A Band Called David</td>\n",
       "      <td>Time</td>\n",
       "      <td>1977.0</td>\n",
       "      <td>/lyric/1276610/A+Band+Called+David/Time</td>\n",
       "      <td>Well He hasn't always been around\\r\\nAnd He wo...</td>\n",
       "      <td>Children's</td>\n",
       "    </tr>\n",
       "    <tr>\n",
       "      <th>1</th>\n",
       "      <td>A Blue Ocean Dream</td>\n",
       "      <td>The Time</td>\n",
       "      <td>2004.0</td>\n",
       "      <td>/lyric/7827470/A+Blue+Ocean+Dream/The+Time</td>\n",
       "      <td>this is the time, these are the days, your lif...</td>\n",
       "      <td>Electronic</td>\n",
       "    </tr>\n",
       "    <tr>\n",
       "      <th>2</th>\n",
       "      <td>A Boogie wit da Hoodie</td>\n",
       "      <td>Keke</td>\n",
       "      <td>2018.0</td>\n",
       "      <td>/lyric/34837325/A+Boogie+wit+da+Hoodie/Keke</td>\n",
       "      <td>(Scum Gang!)\\r\\n\\r\\nI'll be on the block on th...</td>\n",
       "      <td>Hip Hop</td>\n",
       "    </tr>\n",
       "    <tr>\n",
       "      <th>3</th>\n",
       "      <td>A Breach of Silence</td>\n",
       "      <td>The Darkest Road</td>\n",
       "      <td>2014.0</td>\n",
       "      <td>/lyric/31057587/A+Breach+of+Silence/The+Darkes...</td>\n",
       "      <td>It's not enough to know I'm breathing.\\nI've g...</td>\n",
       "      <td>Rock</td>\n",
       "    </tr>\n",
       "    <tr>\n",
       "      <th>4</th>\n",
       "      <td>A Change of Pace</td>\n",
       "      <td>Prepare the Masses</td>\n",
       "      <td>2006.0</td>\n",
       "      <td>/lyric/9008429/A+Change+of+Pace/Prepare+the+Ma...</td>\n",
       "      <td>Prepare the masses 'cause this means war\\nAnd ...</td>\n",
       "      <td>Rock</td>\n",
       "    </tr>\n",
       "  </tbody>\n",
       "</table>\n",
       "</div>"
      ],
      "text/plain": [
       "                   artist                song    year  \\\n",
       "0     A Band Called David                Time  1977.0   \n",
       "1      A Blue Ocean Dream            The Time  2004.0   \n",
       "2  A Boogie wit da Hoodie                Keke  2018.0   \n",
       "3     A Breach of Silence    The Darkest Road  2014.0   \n",
       "4        A Change of Pace  Prepare the Masses  2006.0   \n",
       "\n",
       "                                                 url  \\\n",
       "0            /lyric/1276610/A+Band+Called+David/Time   \n",
       "1         /lyric/7827470/A+Blue+Ocean+Dream/The+Time   \n",
       "2        /lyric/34837325/A+Boogie+wit+da+Hoodie/Keke   \n",
       "3  /lyric/31057587/A+Breach+of+Silence/The+Darkes...   \n",
       "4  /lyric/9008429/A+Change+of+Pace/Prepare+the+Ma...   \n",
       "\n",
       "                                               lyric       genre  \n",
       "0  Well He hasn't always been around\\r\\nAnd He wo...  Children's  \n",
       "1  this is the time, these are the days, your lif...  Electronic  \n",
       "2  (Scum Gang!)\\r\\n\\r\\nI'll be on the block on th...     Hip Hop  \n",
       "3  It's not enough to know I'm breathing.\\nI've g...        Rock  \n",
       "4  Prepare the masses 'cause this means war\\nAnd ...        Rock  "
      ]
     },
     "execution_count": 66,
     "metadata": {},
     "output_type": "execute_result"
    }
   ],
   "source": [
    "song_1g = data_url[data_url.url.isin(single_genre)]\n",
    "song_genre = song_1g.merge(right=genres, on='url')\n",
    "# song_genre.drop('id', axis=1)\n",
    "song_genre.head()"
   ]
  },
  {
   "cell_type": "markdown",
   "metadata": {},
   "source": [
    "## Song language"
   ]
  },
  {
   "cell_type": "code",
   "execution_count": 67,
   "metadata": {},
   "outputs": [
    {
     "data": {
      "application/vnd.jupyter.widget-view+json": {
       "model_id": "ef6b2fefbafa4f8db7a09f6aae3edc92",
       "version_major": 2,
       "version_minor": 0
      },
      "text/plain": [
       "HBox(children=(FloatProgress(value=0.0, max=97969.0), HTML(value='')))"
      ]
     },
     "metadata": {},
     "output_type": "display_data"
    },
    {
     "name": "stdout",
     "output_type": "stream",
     "text": [
      "\n"
     ]
    }
   ],
   "source": [
    "from langdetect import detect\n",
    "\n",
    "result = []\n",
    "for lyr in tqdm(song_genre.lyric):\n",
    "    if len(lyr) >= 50:\n",
    "        try:\n",
    "            result.append(detect(lyr[:50]))\n",
    "        except:\n",
    "            result.append(detect(lyr[50:]))\n",
    "    else:\n",
    "        result.append(detect(lyr))\n",
    "    "
   ]
  },
  {
   "cell_type": "code",
   "execution_count": 68,
   "metadata": {},
   "outputs": [
    {
     "data": {
      "text/plain": [
       "97969"
      ]
     },
     "execution_count": 68,
     "metadata": {},
     "output_type": "execute_result"
    }
   ],
   "source": [
    "len(result)"
   ]
  },
  {
   "cell_type": "code",
   "execution_count": 71,
   "metadata": {},
   "outputs": [
    {
     "data": {
      "text/plain": [
       "[('en', 81561),\n",
       " ('fr', 4764),\n",
       " ('es', 3154),\n",
       " ('it', 1439),\n",
       " ('de', 1247),\n",
       " ('pt', 938),\n",
       " ('af', 696),\n",
       " ('so', 552),\n",
       " ('nl', 497),\n",
       " ('id', 483)]"
      ]
     },
     "execution_count": 71,
     "metadata": {},
     "output_type": "execute_result"
    }
   ],
   "source": [
    "from collections import Counter\n",
    "Counter(result).most_common(10)"
   ]
  },
  {
   "cell_type": "code",
   "execution_count": 77,
   "metadata": {},
   "outputs": [],
   "source": [
    "is_english = pd.Series(result) == 'en'\n",
    "song_genre_en = song_genre[is_english]"
   ]
  },
  {
   "cell_type": "markdown",
   "metadata": {},
   "source": [
    "## Word Clouds"
   ]
  },
  {
   "cell_type": "code",
   "execution_count": 78,
   "metadata": {},
   "outputs": [],
   "source": [
    "from wordcloud import WordCloud\n",
    "\n",
    "def make_wordcloud(text):\n",
    "    cloud = WordCloud().generate(text)\n",
    "    plt.imshow(cloud, interpolation='bilinear')\n",
    "    plt.axis(\"off\")\n",
    "    plt.show()"
   ]
  },
  {
   "cell_type": "code",
   "execution_count": 79,
   "metadata": {},
   "outputs": [
    {
     "name": "stderr",
     "output_type": "stream",
     "text": [
      "/usr/local/lib/python3.7/site-packages/ipykernel_launcher.py:1: UserWarning: Boolean Series key will be reindexed to match DataFrame index.\n",
      "  \"\"\"Entry point for launching an IPython kernel.\n",
      "/usr/local/lib/python3.7/site-packages/ipykernel_launcher.py:2: UserWarning: Boolean Series key will be reindexed to match DataFrame index.\n",
      "  \n",
      "/usr/local/lib/python3.7/site-packages/ipykernel_launcher.py:3: UserWarning: Boolean Series key will be reindexed to match DataFrame index.\n",
      "  This is separate from the ipykernel package so we can avoid doing imports until\n"
     ]
    }
   ],
   "source": [
    "rock   = song_genre_en[song_genre.genre == 'Rock'].lyric.str.cat(sep =' ')\n",
    "hiphop = song_genre_en[song_genre.genre == 'Hip Hop'].lyric.str.cat(sep =' ')\n",
    "folk   = song_genre_en[song_genre.genre == 'Folk, World, & Country'].lyric.str.cat(sep =' ')"
   ]
  },
  {
   "cell_type": "code",
   "execution_count": 80,
   "metadata": {},
   "outputs": [
    {
     "data": {
      "image/png": "[encoded data removed]",
      "text/plain": [
       "<Figure size 432x288 with 1 Axes>"
      ]
     },
     "metadata": {
      "needs_background": "light"
     },
     "output_type": "display_data"
    }
   ],
   "source": [
    "make_wordcloud(rock)"
   ]
  },
  {
   "cell_type": "code",
   "execution_count": 81,
   "metadata": {},
   "outputs": [
    {
     "data": {
      "image/png": "[encoded data removed]",
      "text/plain": [
       "<Figure size 432x288 with 1 Axes>"
      ]
     },
     "metadata": {
      "needs_background": "light"
     },
     "output_type": "display_data"
    }
   ],
   "source": [
    "make_wordcloud(hiphop)"
   ]
  },
  {
   "cell_type": "code",
   "execution_count": 82,
   "metadata": {},
   "outputs": [
    {
     "data": {
      "image/png": "[encoded data removed]",
      "text/plain": [
       "<Figure size 432x288 with 1 Axes>"
      ]
     },
     "metadata": {
      "needs_background": "light"
     },
     "output_type": "display_data"
    }
   ],
   "source": [
    "make_wordcloud(folk)"
   ]
  },
  {
   "cell_type": "markdown",
   "metadata": {},
   "source": [
    "## tf-idf"
   ]
  },
  {
   "cell_type": "code",
   "execution_count": 83,
   "metadata": {},
   "outputs": [],
   "source": [
    "# lemmatization\n",
    "lemma_lyr = song_genre_en.lyric\n",
    "lemma_lyr = [l.lower() for l in lemma_lyr]\n",
    "lemma_lyr = [nltk.word_tokenize(l) for l in lemma_lyr]"
   ]
  },
  {
   "cell_type": "code",
   "execution_count": 84,
   "metadata": {},
   "outputs": [],
   "source": [
    "from nltk.corpus import stopwords\n",
    "en_stops = set(stopwords.words('english'))"
   ]
  },
  {
   "cell_type": "code",
   "execution_count": 85,
   "metadata": {},
   "outputs": [],
   "source": [
    "lemma_lyr2 = []\n",
    "for l in lemma_lyr:\n",
    "    lem = [w for w in l if w not in en_stops and w.isalnum()]\n",
    "    lemma_lyr2.append(lem)"
   ]
  },
  {
   "cell_type": "code",
   "execution_count": null,
   "metadata": {},
   "outputs": [],
   "source": [
    "# Very useful site re: tf-idf: https://janav.wordpress.com/2013/10/27/tf-idf-and-cosine-similarity/"
   ]
  },
  {
   "cell_type": "code",
   "execution_count": 86,
   "metadata": {},
   "outputs": [
    {
     "data": {
      "application/vnd.jupyter.widget-view+json": {
       "model_id": "999639d309f14b16bcfaf2adf8c73518",
       "version_major": 2,
       "version_minor": 0
      },
      "text/plain": [
       "HBox(children=(FloatProgress(value=0.0, max=97969.0), HTML(value='')))"
      ]
     },
     "metadata": {},
     "output_type": "display_data"
    },
    {
     "name": "stdout",
     "output_type": "stream",
     "text": [
      "\n"
     ]
    }
   ],
   "source": [
    "from collections import Counter\n",
    "\n",
    "corpus_tf = Counter()\n",
    "doc_list  = []\n",
    "for d in tqdm(lemma_lyr2):\n",
    "    corpus_tf += Counter(d)\n",
    "    doc_list.append(Counter(d))\n"
   ]
  },
  {
   "cell_type": "code",
   "execution_count": null,
   "metadata": {},
   "outputs": [],
   "source": []
  },
  {
   "cell_type": "code",
   "execution_count": null,
   "metadata": {},
   "outputs": [],
   "source": [
    "# 1. Number of documents\n",
    "num_docs = len(doc_list)\n",
    "# 2. Number of documents in which each word exists\n",
    "num_docs_w_word = {}\n",
    "# 3. Number of occurrences of each word in each document\n",
    "corp_word_freq = Counter()\n",
    "# 4. Total number of word occurrences in corpus\n",
    "num_words = 0\n",
    "# 5. Counts within each document\n",
    "doc_word_freq = []\n",
    "\n",
    "for d in tqdm(doc_list):\n",
    "    num_words += len(d)\n",
    "    c = Counter(d)\n",
    "    doc_word_freq.append(c)\n",
    "    corp_word_freq += c\n",
    "    for k in c.keys():\n",
    "        if k not in num_docs_w_word:\n",
    "            num_docs_w_word[k] = 1\n",
    "        else:\n",
    "            num_docs_w_word[k] += 1\n"
   ]
  },
  {
   "cell_type": "code",
   "execution_count": null,
   "metadata": {},
   "outputs": [],
   "source": [
    "# Inverse document frequency\n",
    "idf = {}\n",
    "for word, count in num_docs_w_word.items():\n",
    "    idf[word] = 1 + log(num_docs / count)"
   ]
  },
  {
   "cell_type": "code",
   "execution_count": null,
   "metadata": {},
   "outputs": [],
   "source": [
    "# Normalized term frequencies\n",
    "norm_term_freq = []\n",
    "for doc in tqdm(doc_word_freq):\n",
    "    next_dict = {}\n",
    "    for word, count in doc.items():\n",
    "        next_dict[word] = count / sum(doc.values())\n",
    "    norm_term_freq.append(next_dict)"
   ]
  },
  {
   "cell_type": "code",
   "execution_count": null,
   "metadata": {
    "scrolled": true
   },
   "outputs": [],
   "source": [
    "# Inverse term freq\n",
    "tf_idf = []\n",
    "for doc in tqdm(norm_term_freq):\n",
    "    next_dict = {}\n",
    "    for word, weight in doc.items():\n",
    "        next_dict[word] = weight * idf[word] \n",
    "    tf_idf.append(next_dict)"
   ]
  },
  {
   "cell_type": "code",
   "execution_count": null,
   "metadata": {},
   "outputs": [],
   "source": [
    "# Clustering approach based on vectors of words"
   ]
  },
  {
   "cell_type": "code",
   "execution_count": null,
   "metadata": {},
   "outputs": [],
   "source": [
    "# Brief investigation of words\n",
    "docs_w_word = pd.DataFrame.from_dict(num_docs_w_word, orient='index')\n",
    "docs_w_word.columns = ['count']"
   ]
  },
  {
   "cell_type": "code",
   "execution_count": null,
   "metadata": {},
   "outputs": [],
   "source": [
    "# Which words are in the most documents?\n",
    "docs_w_word.sort_values('count', ascending=False)[:30]"
   ]
  },
  {
   "cell_type": "code",
   "execution_count": null,
   "metadata": {},
   "outputs": [],
   "source": [
    "# Some words happen up to 40k times, but most are in this range\n",
    "docs_w_word.hist('count', bins=100, range=[0, 250])\n",
    "plt.show()"
   ]
  },
  {
   "cell_type": "code",
   "execution_count": null,
   "metadata": {
    "scrolled": false
   },
   "outputs": [],
   "source": [
    "# What proportion of words occur more than once?\n",
    "sum(docs_w_word['count'] > 1) / len(docs_w_word)"
   ]
  },
  {
   "cell_type": "markdown",
   "metadata": {},
   "source": [
    "## sklearn tf-idf implementation"
   ]
  },
  {
   "cell_type": "code",
   "execution_count": null,
   "metadata": {},
   "outputs": [],
   "source": [
    "from sklearn.feature_extraction.text import TfidfVectorizer"
   ]
  },
  {
   "cell_type": "code",
   "execution_count": null,
   "metadata": {},
   "outputs": [],
   "source": [
    "help(TfidfVectorizer)"
   ]
  },
  {
   "cell_type": "code",
   "execution_count": null,
   "metadata": {},
   "outputs": [],
   "source": [
    "tf_vec = TfidfVectorizer(strip_accents='unicode', \n",
    "                         analyzer='word')\n",
    "tf_vec.fit_transform(lyrics.lyric)"
   ]
  },
  {
   "cell_type": "code",
   "execution_count": null,
   "metadata": {},
   "outputs": [],
   "source": [
    "tf_vec"
   ]
  },
  {
   "cell_type": "code",
   "execution_count": null,
   "metadata": {},
   "outputs": [],
   "source": [
    "# corpus_tf.most_common()[::-1][:100]"
   ]
  },
  {
   "cell_type": "code",
   "execution_count": null,
   "metadata": {},
   "outputs": [],
   "source": [
    "artist_out = data.groupby('artist').count().sort_values('song', ascending=False)\n",
    "artist_out = artist_out.rename_axis(index={'artist':'artist_name'})\n",
    "artist_out.to_csv('lyrics_artist_ranked.csv')"
   ]
  },
  {
   "cell_type": "code",
   "execution_count": null,
   "metadata": {},
   "outputs": [],
   "source": []
  },
  {
   "cell_type": "code",
   "execution_count": null,
   "metadata": {},
   "outputs": [],
   "source": []
  },
  {
   "cell_type": "code",
   "execution_count": null,
   "metadata": {},
   "outputs": [],
   "source": []
  }
 ],
 "metadata": {
  "kernelspec": {
   "display_name": "Python 3",
   "language": "python",
   "name": "python3"
  },
  "language_info": {
   "codemirror_mode": {
    "name": "ipython",
    "version": 3
   },
   "file_extension": ".py",
   "mimetype": "text/x-python",
   "name": "python",
   "nbconvert_exporter": "python",
   "pygments_lexer": "ipython3",
   "version": "3.7.5"
  }
 },
 "nbformat": 4,
 "nbformat_minor": 2
}
