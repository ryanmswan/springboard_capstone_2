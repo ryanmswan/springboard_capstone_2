{
 "cells": [
  {
   "cell_type": "markdown",
   "metadata": {},
   "source": [
    "# Genre Classification From Lyrics.com\n",
    "# Data Cleaning"
   ]
  },
  {
   "cell_type": "code",
   "execution_count": 1,
   "metadata": {},
   "outputs": [
    {
     "name": "stderr",
     "output_type": "stream",
     "text": [
      "/usr/local/lib/python3.7/site-packages/statsmodels/tools/_testing.py:19: FutureWarning: pandas.util.testing is deprecated. Use the functions in the public API at pandas.testing instead.\n",
      "  import pandas.util.testing as tm\n"
     ]
    }
   ],
   "source": [
    "import sqlalchemy\n",
    "import pandas as pd\n",
    "import numpy as np\n",
    "import seaborn as sns\n",
    "from sqlalchemy import text, select\n",
    "import matplotlib.pyplot as plt\n",
    "from tqdm.notebook import tqdm\n",
    "from math import log"
   ]
  },
  {
   "cell_type": "markdown",
   "metadata": {},
   "source": [
    "The lyrics.com database is a collection of user-submitted lyric data comprising roughly 1.5 million submissions of song lyrics across a variety of musical genres. This dataset is derived from webscraping the full catalog of lyrics.com and storing the results in a SQLite database. \n",
    "\n",
    "There data is split into four relational tables:\n",
    "1. artists\n",
    "   - includes data related to artist info such as artist name\n",
    "2. lyrics\n",
    "   - includes lyrics as text data as well as song titles and listed publication year\n",
    "3. genres\n",
    "   - includes data classifying songs into one or more genres\n",
    "4. styles\n",
    "   - includes a subgenre classification of style"
   ]
  },
  {
   "cell_type": "code",
   "execution_count": 2,
   "metadata": {},
   "outputs": [],
   "source": [
    "from sqlalchemy import create_engine, Table, Column\n",
    "from sqlalchemy import Integer, String, Text, MetaData\n",
    "\n",
    "engine = create_engine('sqlite:///../data/raw/lyrics.db', echo=False)\n",
    "\n",
    "meta = MetaData()\n",
    "\n",
    "artists = Table('artists', meta,\n",
    "                Column('artist', String, primary_key=True),\n",
    "                Column('artist_url', String))\n",
    "\n",
    "lyrics = Table('lyrics', meta,\n",
    "               Column('artist', String),\n",
    "               Column('song_title', String),\n",
    "               Column('year', Integer),\n",
    "               Column('song_url', String, primary_key=True),\n",
    "               Column('lyrics', Text))\n",
    "\n",
    "genres = Table('genre', meta,\n",
    "               Column('id', Integer, primary_key=True, autoincrement=True),\n",
    "               Column('song_url', String),\n",
    "               Column('genre', String))\n",
    "\n",
    "styles = Table('style', meta,\n",
    "               Column('id', Integer, primary_key=True, autoincrement=True),\n",
    "               Column('song_url', String),\n",
    "               Column('style', String))\n",
    "\n",
    "if __name__ == '__main__':\n",
    "    meta.create_all(engine)\n"
   ]
  },
  {
   "cell_type": "markdown",
   "metadata": {},
   "source": [
    "We can set up a schema to access these tables using SQLAlchemy, which is a versatile interface for interacting with databases of all sizes in Python. Here we define each table and the rules for interaction with each of them."
   ]
  },
  {
   "cell_type": "code",
   "execution_count": 3,
   "metadata": {},
   "outputs": [],
   "source": [
    "conn = engine.connect()"
   ]
  },
  {
   "cell_type": "code",
   "execution_count": 4,
   "metadata": {},
   "outputs": [],
   "source": [
    "query = text('SELECT * FROM lyrics')\n",
    "artists = conn.execute(query).fetchall()\n",
    "data = pd.DataFrame(artists)\n",
    "data.columns = ['artist', 'song', 'year', 'url', 'lyric']\n",
    "data_url = data.copy()\n",
    "data = data.drop(labels='url', axis=1)"
   ]
  },
  {
   "cell_type": "markdown",
   "metadata": {},
   "source": [
    "Since the dataset is mostly text information, it is able to fit into memory without a great deal of difficulty. We recast the data as a pandas dataframe."
   ]
  },
  {
   "cell_type": "code",
   "execution_count": 5,
   "metadata": {},
   "outputs": [
    {
     "name": "stdout",
     "output_type": "stream",
     "text": [
      "\n",
      "Number of rows:\t\t1250843\n",
      "Number of lyrics:\t382600\n",
      "\n"
     ]
    }
   ],
   "source": [
    "num_rows = data.shape[0]\n",
    "no_lyr = data.lyric.isna()\n",
    "\n",
    "print('''\n",
    "Number of rows:\\t\\t%s\n",
    "Number of lyrics:\\t%s\n",
    "''' % (num_rows, no_lyr.sum()))"
   ]
  },
  {
   "cell_type": "markdown",
   "metadata": {},
   "source": [
    "From the lyrics dataframe we can see that we have roughly 1.25 million individual songs to work with, and that 380,000 are lacking lyric data. These tracks are largely instrumental or electronic tracks that feature no lyrical content"
   ]
  },
  {
   "cell_type": "markdown",
   "metadata": {},
   "source": [
    "# Genre Tagging Completeness"
   ]
  },
  {
   "cell_type": "code",
   "execution_count": 6,
   "metadata": {},
   "outputs": [
    {
     "name": "stdout",
     "output_type": "stream",
     "text": [
      "Genre tagged songs missing lyrics: 0\n"
     ]
    }
   ],
   "source": [
    "query = \"\"\"SELECT l.artist, l.song_title, l.year, g.genre, l.lyrics\n",
    "           FROM lyrics l JOIN genre g ON g.song_url = l.song_url\"\"\"\n",
    "genres = conn.execute(query).fetchall()\n",
    "genres = pd.DataFrame(genres)\n",
    "genres.columns = ['artist', 'song_title', 'year', 'genre', 'lyrics']\n",
    "print('Genre tagged songs missing lyrics: %s' % (genres.lyrics.isnull().sum()))"
   ]
  },
  {
   "cell_type": "markdown",
   "metadata": {},
   "source": [
    "Interestingly none of the songs tagged with genre information in the database are missing lyric information."
   ]
  },
  {
   "cell_type": "code",
   "execution_count": 7,
   "metadata": {},
   "outputs": [
    {
     "data": {
      "text/plain": [
       "(134673, 3)"
      ]
     },
     "execution_count": 7,
     "metadata": {},
     "output_type": "execute_result"
    }
   ],
   "source": [
    "unique_songs = genres.groupby(['artist','song_title'])\n",
    "unique_songs.count().shape"
   ]
  },
  {
   "cell_type": "markdown",
   "metadata": {},
   "source": [
    "We can see that looking at unique song titles in the group of songs with a matched genre tag brings our data set down to around 135,000 songs. A huge reduction."
   ]
  },
  {
   "cell_type": "code",
   "execution_count": 8,
   "metadata": {},
   "outputs": [
    {
     "data": {
      "image/png": "[encoded data removed]",
      "text/plain": [
       "<Figure size 432x288 with 1 Axes>"
      ]
     },
     "metadata": {
      "needs_background": "light"
     },
     "output_type": "display_data"
    }
   ],
   "source": [
    "genre_counts = unique_songs.genre.count()\n",
    "genre_counts.hist(bins=80)\n",
    "plt.show()"
   ]
  },
  {
   "cell_type": "markdown",
   "metadata": {},
   "source": [
    "We can see that the vast majority of tracks have a single genre classification, but a subset has from two to 80 tracks."
   ]
  },
  {
   "cell_type": "code",
   "execution_count": 9,
   "metadata": {},
   "outputs": [
    {
     "data": {
      "image/png": "[encoded data removed]",
      "text/plain": [
       "<Figure size 432x288 with 1 Axes>"
      ]
     },
     "metadata": {
      "needs_background": "light"
     },
     "output_type": "display_data"
    }
   ],
   "source": [
    "genre_counts.hist(bins=80)\n",
    "plt.ylim([0,250])\n",
    "plt.show()"
   ]
  },
  {
   "cell_type": "markdown",
   "metadata": {},
   "source": [
    "If we focus on the area close below 250 tracks, we can see that there is a multimodal distribution of number of track tags. Some tracks have as many as 80 genres tagged, and there is a strong continuous peak between 10-20 tracks."
   ]
  },
  {
   "cell_type": "code",
   "execution_count": 10,
   "metadata": {},
   "outputs": [
    {
     "name": "stdout",
     "output_type": "stream",
     "text": [
      "38004\n",
      "7224\n"
     ]
    }
   ],
   "source": [
    "print((genre_counts > 1).sum())\n",
    "print((genre_counts > 2).sum())"
   ]
  },
  {
   "cell_type": "markdown",
   "metadata": {},
   "source": [
    "Roughly 38000 tracks have multiple genre tags, though the vast majority of these have two genre classifications. If we focus on a subset of genres, we may be able to use some of these tracks by eliminating genre tags we are not focusing on."
   ]
  },
  {
   "cell_type": "code",
   "execution_count": 11,
   "metadata": {},
   "outputs": [
    {
     "data": {
      "text/plain": [
       "Rock                      56226\n",
       "Pop                       46089\n",
       "Jazz                      18897\n",
       "Electronic                17622\n",
       "Folk, World, & Country    17236\n",
       "Hip Hop                   14935\n",
       "Funk / Soul               12355\n",
       "Latin                      7190\n",
       "Blues                      5270\n",
       "Stage & Screen             3512\n",
       "Reggae                     2853\n",
       "Classical                   889\n",
       "genre                       850\n",
       "Non-Music                   367\n",
       "Children's                  349\n",
       "Brass & Military             26\n",
       "genres                        8\n",
       "Ce genre de Mec               5\n",
       "Ce genre                      2\n",
       "Rapgenre                      2\n",
       " Buy This Song                1\n",
       "Le genre féminin              1\n",
       "transgenres                   1\n",
       "Ce genre Lyrics               1\n",
       "Name: genre, dtype: int64"
      ]
     },
     "execution_count": 11,
     "metadata": {},
     "output_type": "execute_result"
    }
   ],
   "source": [
    "genres.genre.value_counts()"
   ]
  },
  {
   "cell_type": "markdown",
   "metadata": {},
   "source": [
    "We can see that there are a subset of genres that are much better represented than others. We will likely have to narrow our group of genres down to two to three genres to focus on. For this first filter, we will subset the data to genres with more than 10,000 tagged songs."
   ]
  },
  {
   "cell_type": "code",
   "execution_count": 12,
   "metadata": {},
   "outputs": [],
   "source": [
    "genres_many = ['Rock', 'Pop', \n",
    "               'Jazz', 'Electronic', \n",
    "               'Folk, World, & Country', 'Hip Hop', \n",
    "               'Funk / Soul']\n",
    "\n",
    "genres_filtered = genres[genres.genre.isin(genres_many)]"
   ]
  },
  {
   "cell_type": "code",
   "execution_count": 13,
   "metadata": {},
   "outputs": [],
   "source": [
    "genre_vals = genres_filtered.groupby(['artist','song_title']).genre.apply(list)\n"
   ]
  },
  {
   "cell_type": "markdown",
   "metadata": {},
   "source": [
    "We can now look at which genres co-occur with other genres the most."
   ]
  },
  {
   "cell_type": "code",
   "execution_count": 14,
   "metadata": {},
   "outputs": [],
   "source": [
    "genres_reduced = genres_filtered[['artist','song_title','genre']]\n",
    "genres_pivot = genres_reduced.pivot_table('artist', 'song_title', 'genre', aggfunc=len, fill_value=0)\n",
    "genres_pivot[genres_pivot > 0] = 1"
   ]
  },
  {
   "cell_type": "code",
   "execution_count": 15,
   "metadata": {},
   "outputs": [],
   "source": [
    "multi_genre = genres_pivot.apply(sum, axis=1) > 1\n",
    "genres_pivot = genres_pivot[multi_genre]"
   ]
  },
  {
   "cell_type": "code",
   "execution_count": 16,
   "metadata": {},
   "outputs": [
    {
     "name": "stderr",
     "output_type": "stream",
     "text": [
      "/usr/local/lib/python3.7/site-packages/ipykernel_launcher.py:3: FutureWarning: Using a non-tuple sequence for multidimensional indexing is deprecated; use `arr[tuple(seq)]` instead of `arr[seq]`. In the future this will be interpreted as an array index, `arr[np.array(seq)]`, which will result either in an error or a different result.\n",
      "  This is separate from the ipykernel package so we can avoid doing imports until\n"
     ]
    }
   ],
   "source": [
    "u = genres_pivot\n",
    "v = u.T.dot(u)\n",
    "v.values[[np.arange(v.shape[0])]*2] = 0"
   ]
  },
  {
   "cell_type": "code",
   "execution_count": 17,
   "metadata": {},
   "outputs": [
    {
     "data": {
      "text/plain": [
       "genre\n",
       "Electronic                12801\n",
       "Folk, World, & Country     9171\n",
       "Funk / Soul                9544\n",
       "Hip Hop                    6477\n",
       "Jazz                       7522\n",
       "Pop                       25329\n",
       "Rock                      23178\n",
       "dtype: int64"
      ]
     },
     "execution_count": 17,
     "metadata": {},
     "output_type": "execute_result"
    }
   ],
   "source": [
    "v.sum()"
   ]
  },
  {
   "cell_type": "code",
   "execution_count": 18,
   "metadata": {
    "scrolled": false
   },
   "outputs": [
    {
     "data": {
      "text/html": [
       "<div>\n",
       "<style scoped>\n",
       "    .dataframe tbody tr th:only-of-type {\n",
       "        vertical-align: middle;\n",
       "    }\n",
       "\n",
       "    .dataframe tbody tr th {\n",
       "        vertical-align: top;\n",
       "    }\n",
       "\n",
       "    .dataframe thead th {\n",
       "        text-align: right;\n",
       "    }\n",
       "</style>\n",
       "<table border=\"1\" class=\"dataframe\">\n",
       "  <thead>\n",
       "    <tr style=\"text-align: right;\">\n",
       "      <th>genre</th>\n",
       "      <th>Electronic</th>\n",
       "      <th>Folk, World, &amp; Country</th>\n",
       "      <th>Funk / Soul</th>\n",
       "      <th>Hip Hop</th>\n",
       "      <th>Jazz</th>\n",
       "      <th>Pop</th>\n",
       "      <th>Rock</th>\n",
       "    </tr>\n",
       "    <tr>\n",
       "      <th>genre</th>\n",
       "      <th></th>\n",
       "      <th></th>\n",
       "      <th></th>\n",
       "      <th></th>\n",
       "      <th></th>\n",
       "      <th></th>\n",
       "      <th></th>\n",
       "    </tr>\n",
       "  </thead>\n",
       "  <tbody>\n",
       "    <tr>\n",
       "      <th>Electronic</th>\n",
       "      <td>0</td>\n",
       "      <td>784</td>\n",
       "      <td>1473</td>\n",
       "      <td>1651</td>\n",
       "      <td>598</td>\n",
       "      <td>4093</td>\n",
       "      <td>4202</td>\n",
       "    </tr>\n",
       "    <tr>\n",
       "      <th>Folk, World, &amp; Country</th>\n",
       "      <td>784</td>\n",
       "      <td>0</td>\n",
       "      <td>854</td>\n",
       "      <td>452</td>\n",
       "      <td>822</td>\n",
       "      <td>3027</td>\n",
       "      <td>3232</td>\n",
       "    </tr>\n",
       "    <tr>\n",
       "      <th>Funk / Soul</th>\n",
       "      <td>1473</td>\n",
       "      <td>854</td>\n",
       "      <td>0</td>\n",
       "      <td>1096</td>\n",
       "      <td>1156</td>\n",
       "      <td>2719</td>\n",
       "      <td>2246</td>\n",
       "    </tr>\n",
       "    <tr>\n",
       "      <th>Hip Hop</th>\n",
       "      <td>1651</td>\n",
       "      <td>452</td>\n",
       "      <td>1096</td>\n",
       "      <td>0</td>\n",
       "      <td>287</td>\n",
       "      <td>1532</td>\n",
       "      <td>1459</td>\n",
       "    </tr>\n",
       "    <tr>\n",
       "      <th>Jazz</th>\n",
       "      <td>598</td>\n",
       "      <td>822</td>\n",
       "      <td>1156</td>\n",
       "      <td>287</td>\n",
       "      <td>0</td>\n",
       "      <td>3289</td>\n",
       "      <td>1370</td>\n",
       "    </tr>\n",
       "    <tr>\n",
       "      <th>Pop</th>\n",
       "      <td>4093</td>\n",
       "      <td>3027</td>\n",
       "      <td>2719</td>\n",
       "      <td>1532</td>\n",
       "      <td>3289</td>\n",
       "      <td>0</td>\n",
       "      <td>10669</td>\n",
       "    </tr>\n",
       "    <tr>\n",
       "      <th>Rock</th>\n",
       "      <td>4202</td>\n",
       "      <td>3232</td>\n",
       "      <td>2246</td>\n",
       "      <td>1459</td>\n",
       "      <td>1370</td>\n",
       "      <td>10669</td>\n",
       "      <td>0</td>\n",
       "    </tr>\n",
       "  </tbody>\n",
       "</table>\n",
       "</div>"
      ],
      "text/plain": [
       "genre                   Electronic  Folk, World, & Country  Funk / Soul  \\\n",
       "genre                                                                     \n",
       "Electronic                       0                     784         1473   \n",
       "Folk, World, & Country         784                       0          854   \n",
       "Funk / Soul                   1473                     854            0   \n",
       "Hip Hop                       1651                     452         1096   \n",
       "Jazz                           598                     822         1156   \n",
       "Pop                           4093                    3027         2719   \n",
       "Rock                          4202                    3232         2246   \n",
       "\n",
       "genre                   Hip Hop  Jazz    Pop   Rock  \n",
       "genre                                                \n",
       "Electronic                 1651   598   4093   4202  \n",
       "Folk, World, & Country      452   822   3027   3232  \n",
       "Funk / Soul                1096  1156   2719   2246  \n",
       "Hip Hop                       0   287   1532   1459  \n",
       "Jazz                        287     0   3289   1370  \n",
       "Pop                        1532  3289      0  10669  \n",
       "Rock                       1459  1370  10669      0  "
      ]
     },
     "execution_count": 18,
     "metadata": {},
     "output_type": "execute_result"
    }
   ],
   "source": [
    "v"
   ]
  },
  {
   "cell_type": "code",
   "execution_count": 19,
   "metadata": {},
   "outputs": [
    {
     "data": {
      "image/png": "[encoded data removed]",
      "text/plain": [
       "<Figure size 432x288 with 2 Axes>"
      ]
     },
     "metadata": {
      "needs_background": "light"
     },
     "output_type": "display_data"
    }
   ],
   "source": [
    "sns.heatmap(v / genres_reduced.genre.value_counts())\n",
    "plt.show()"
   ]
  },
  {
   "cell_type": "markdown",
   "metadata": {},
   "source": [
    "This heatmap is normalized by column for the total count of each genre. So for example, the Rock column represents the proportion of all Rock songs that overlap with each other potential genre. The Rock row represents the proportion of every other label that is also classified as Rock.\n",
    "\n",
    "From this we can see that Rock and Pop are the most promiscuous genres, and that this is especially true between these two groups. Looking crosswise, we can see that virtually every other genre has between 15%-20% of its multilabeled instances labeled as a combination with Rock, and the same is generally true with Pop. Only Jazz and Hip Hop somewhat buck this trend.\n",
    "\n",
    "This may serve as a reason to exclude one or both of the Pop and Rock genres from classification tasks, as they seem to have less information content than other genre classifications. We will also limit to songs that only have one genre classification."
   ]
  },
  {
   "cell_type": "code",
   "execution_count": 20,
   "metadata": {},
   "outputs": [
    {
     "name": "stderr",
     "output_type": "stream",
     "text": [
      "/usr/local/lib/python3.7/site-packages/ipykernel_launcher.py:12: SettingWithCopyWarning: \n",
      "A value is trying to be set on a copy of a slice from a DataFrame.\n",
      "Try using .loc[row_indexer,col_indexer] = value instead\n",
      "\n",
      "See the caveats in the documentation: https://pandas.pydata.org/pandas-docs/stable/user_guide/indexing.html#returning-a-view-versus-a-copy\n",
      "  if sys.path[0] == '':\n"
     ]
    },
    {
     "data": {
      "text/html": [
       "<div>\n",
       "<style scoped>\n",
       "    .dataframe tbody tr th:only-of-type {\n",
       "        vertical-align: middle;\n",
       "    }\n",
       "\n",
       "    .dataframe tbody tr th {\n",
       "        vertical-align: top;\n",
       "    }\n",
       "\n",
       "    .dataframe thead th {\n",
       "        text-align: right;\n",
       "    }\n",
       "</style>\n",
       "<table border=\"1\" class=\"dataframe\">\n",
       "  <thead>\n",
       "    <tr style=\"text-align: right;\">\n",
       "      <th></th>\n",
       "      <th>artist</th>\n",
       "      <th>song_title</th>\n",
       "      <th>year</th>\n",
       "      <th>genre</th>\n",
       "      <th>lyrics</th>\n",
       "    </tr>\n",
       "  </thead>\n",
       "  <tbody>\n",
       "    <tr>\n",
       "      <th>28750</th>\n",
       "      <td>Doro Pesch</td>\n",
       "      <td>Long Way Home</td>\n",
       "      <td>1999.0</td>\n",
       "      <td>Rock</td>\n",
       "      <td>Father\\r\\nGive me just a sign\\r\\nThat I'll sur...</td>\n",
       "    </tr>\n",
       "    <tr>\n",
       "      <th>28759</th>\n",
       "      <td>Marius Müller-Westernhagen</td>\n",
       "      <td>Fertig</td>\n",
       "      <td>2011.0</td>\n",
       "      <td>Rock</td>\n",
       "      <td>\"Fertig\"\\nBy Marius Müller Westernhagen\\nDo ka...</td>\n",
       "    </tr>\n",
       "    <tr>\n",
       "      <th>28761</th>\n",
       "      <td>The Animals</td>\n",
       "      <td>Don't Bring Me Down</td>\n",
       "      <td>1966.0</td>\n",
       "      <td>Rock</td>\n",
       "      <td>When you complain and criticize \\r\\nI feel  I'...</td>\n",
       "    </tr>\n",
       "    <tr>\n",
       "      <th>28768</th>\n",
       "      <td>E-40</td>\n",
       "      <td>V-Town</td>\n",
       "      <td>1992.0</td>\n",
       "      <td>Hip Hop</td>\n",
       "      <td>(Hi, the state and what city, please?)\\r\\nVall...</td>\n",
       "    </tr>\n",
       "    <tr>\n",
       "      <th>28769</th>\n",
       "      <td>Oingo Boingo</td>\n",
       "      <td>Pain</td>\n",
       "      <td>1987.0</td>\n",
       "      <td>Rock</td>\n",
       "      <td>Welcome to my little world...completely self-c...</td>\n",
       "    </tr>\n",
       "  </tbody>\n",
       "</table>\n",
       "</div>"
      ],
      "text/plain": [
       "                           artist           song_title    year    genre  \\\n",
       "28750                  Doro Pesch        Long Way Home  1999.0     Rock   \n",
       "28759  Marius Müller-Westernhagen               Fertig  2011.0     Rock   \n",
       "28761                 The Animals  Don't Bring Me Down  1966.0     Rock   \n",
       "28768                        E-40               V-Town  1992.0  Hip Hop   \n",
       "28769                Oingo Boingo                 Pain  1987.0     Rock   \n",
       "\n",
       "                                                  lyrics  \n",
       "28750  Father\\r\\nGive me just a sign\\r\\nThat I'll sur...  \n",
       "28759  \"Fertig\"\\nBy Marius Müller Westernhagen\\nDo ka...  \n",
       "28761  When you complain and criticize \\r\\nI feel  I'...  \n",
       "28768  (Hi, the state and what city, please?)\\r\\nVall...  \n",
       "28769  Welcome to my little world...completely self-c...  "
      ]
     },
     "execution_count": 20,
     "metadata": {},
     "output_type": "execute_result"
    }
   ],
   "source": [
    "final_genres = ['Rock', 'Jazz', 'Electronic', \n",
    "               'Folk, World, & Country', 'Hip Hop', \n",
    "               'Funk / Soul']\n",
    "\n",
    "genres_final = genres[genres.genre.isin(final_genres)]\n",
    "is_single = genres_final.groupby(['artist','song_title']).count()\n",
    "is_single = is_single[is_single.genre > 1]\n",
    "is_single = is_single.reset_index()\n",
    "\n",
    "# Create complex key\n",
    "is_single['complex'] = is_single.artist.astype(str) + is_single.song_title.astype(str)\n",
    "genres_final['complex'] = genres_final.artist.astype(str) + genres_final.song_title.astype(str)\n",
    "\n",
    "genres_final = genres_final[~genres_final.complex.isin(is_single.complex)]\n",
    "genres_final = genres_final.drop('complex', axis=1)\n",
    "genres_final.head()"
   ]
  },
  {
   "cell_type": "markdown",
   "metadata": {},
   "source": [
    "For our purposes here, we will exclude the Pop genre from classification in hopes that it will decrease cross-genre classification errors. We also limit to tracks with only one genre tag represented."
   ]
  },
  {
   "cell_type": "markdown",
   "metadata": {},
   "source": [
    "# Song Language"
   ]
  },
  {
   "cell_type": "code",
   "execution_count": 21,
   "metadata": {},
   "outputs": [
    {
     "data": {
      "application/vnd.jupyter.widget-view+json": {
       "model_id": "068f0ad7add244a6adb4942d13a87559",
       "version_major": 2,
       "version_minor": 0
      },
      "text/plain": [
       "HBox(children=(FloatProgress(value=0.0, max=95453.0), HTML(value='')))"
      ]
     },
     "metadata": {},
     "output_type": "display_data"
    },
    {
     "name": "stdout",
     "output_type": "stream",
     "text": [
      "\n"
     ]
    },
    {
     "data": {
      "text/html": [
       "<div>\n",
       "<style scoped>\n",
       "    .dataframe tbody tr th:only-of-type {\n",
       "        vertical-align: middle;\n",
       "    }\n",
       "\n",
       "    .dataframe tbody tr th {\n",
       "        vertical-align: top;\n",
       "    }\n",
       "\n",
       "    .dataframe thead th {\n",
       "        text-align: right;\n",
       "    }\n",
       "</style>\n",
       "<table border=\"1\" class=\"dataframe\">\n",
       "  <thead>\n",
       "    <tr style=\"text-align: right;\">\n",
       "      <th></th>\n",
       "      <th>artist</th>\n",
       "      <th>song_title</th>\n",
       "      <th>year</th>\n",
       "      <th>genre</th>\n",
       "      <th>lyrics</th>\n",
       "    </tr>\n",
       "  </thead>\n",
       "  <tbody>\n",
       "    <tr>\n",
       "      <th>28750</th>\n",
       "      <td>Doro Pesch</td>\n",
       "      <td>Long Way Home</td>\n",
       "      <td>1999.0</td>\n",
       "      <td>Rock</td>\n",
       "      <td>Father\\r\\nGive me just a sign\\r\\nThat I'll sur...</td>\n",
       "    </tr>\n",
       "    <tr>\n",
       "      <th>28761</th>\n",
       "      <td>The Animals</td>\n",
       "      <td>Don't Bring Me Down</td>\n",
       "      <td>1966.0</td>\n",
       "      <td>Rock</td>\n",
       "      <td>When you complain and criticize \\r\\nI feel  I'...</td>\n",
       "    </tr>\n",
       "    <tr>\n",
       "      <th>28768</th>\n",
       "      <td>E-40</td>\n",
       "      <td>V-Town</td>\n",
       "      <td>1992.0</td>\n",
       "      <td>Hip Hop</td>\n",
       "      <td>(Hi, the state and what city, please?)\\r\\nVall...</td>\n",
       "    </tr>\n",
       "    <tr>\n",
       "      <th>28769</th>\n",
       "      <td>Oingo Boingo</td>\n",
       "      <td>Pain</td>\n",
       "      <td>1987.0</td>\n",
       "      <td>Rock</td>\n",
       "      <td>Welcome to my little world...completely self-c...</td>\n",
       "    </tr>\n",
       "    <tr>\n",
       "      <th>28772</th>\n",
       "      <td>Dinah Washington</td>\n",
       "      <td>I Get a Kick Out of You</td>\n",
       "      <td>1990.0</td>\n",
       "      <td>Jazz</td>\n",
       "      <td>My story is much too sad to be told,\\nBut prac...</td>\n",
       "    </tr>\n",
       "  </tbody>\n",
       "</table>\n",
       "</div>"
      ],
      "text/plain": [
       "                 artist               song_title    year    genre  \\\n",
       "28750        Doro Pesch            Long Way Home  1999.0     Rock   \n",
       "28761       The Animals      Don't Bring Me Down  1966.0     Rock   \n",
       "28768              E-40                   V-Town  1992.0  Hip Hop   \n",
       "28769      Oingo Boingo                     Pain  1987.0     Rock   \n",
       "28772  Dinah Washington  I Get a Kick Out of You  1990.0     Jazz   \n",
       "\n",
       "                                                  lyrics  \n",
       "28750  Father\\r\\nGive me just a sign\\r\\nThat I'll sur...  \n",
       "28761  When you complain and criticize \\r\\nI feel  I'...  \n",
       "28768  (Hi, the state and what city, please?)\\r\\nVall...  \n",
       "28769  Welcome to my little world...completely self-c...  \n",
       "28772  My story is much too sad to be told,\\nBut prac...  "
      ]
     },
     "execution_count": 21,
     "metadata": {},
     "output_type": "execute_result"
    }
   ],
   "source": [
    "from langdetect import detect\n",
    "\n",
    "result = []\n",
    "for lyr in tqdm(genres_final.lyrics):\n",
    "    if len(lyr) >= 50:\n",
    "        try:\n",
    "            result.append(detect(lyr[:50]))\n",
    "        except:\n",
    "            result.append(detect(lyr[50:]))\n",
    "    else:\n",
    "        result.append(detect(lyr))\n",
    "\n",
    "genres_en = genres_final[np.array(result) == 'en']\n",
    "genres_en.head()"
   ]
  },
  {
   "cell_type": "markdown",
   "metadata": {},
   "source": [
    "We can detect English language lyrics and limit our data set to that subset."
   ]
  },
  {
   "cell_type": "markdown",
   "metadata": {},
   "source": [
    "# Language Data Preparation"
   ]
  },
  {
   "cell_type": "markdown",
   "metadata": {},
   "source": [
    "## Deprecated: Now doing all of this in sklearn in next section\n",
    "\n",
    "Need to create a new class to perform lemmatization as part of sklearn implmentation. [see link](https://stackoverflow.com/questions/47423854/sklearn-adding-lemmatizer-to-countvectorizer)"
   ]
  },
  {
   "cell_type": "code",
   "execution_count": 22,
   "metadata": {},
   "outputs": [],
   "source": [
    "# import nltk\n",
    "\n",
    "# # Creating tokens\n",
    "# lemma_lyr = genres_en.lyrics\n",
    "# lemma_lyr = [l.lower() for l in lemma_lyr]\n",
    "# lemma_lyr = [nltk.word_tokenize(l) for l in lemma_lyr]"
   ]
  },
  {
   "cell_type": "markdown",
   "metadata": {},
   "source": [
    "We first tokenize our lyrics into a nested list of words. We lowercase all alphanumeric characters as well so that they are more easily grouped."
   ]
  },
  {
   "cell_type": "code",
   "execution_count": 23,
   "metadata": {},
   "outputs": [],
   "source": [
    "# from nltk.corpus import stopwords\n",
    "# en_stops = set(stopwords.words('english'))\n",
    "\n",
    "# lemma_lyr2 = []\n",
    "# for l in tqdm(lemma_lyr):\n",
    "#     lem = [w for w in l if w not in en_stops and w.isalnum()]\n",
    "#     lemma_lyr2.append(lem)"
   ]
  },
  {
   "cell_type": "markdown",
   "metadata": {},
   "source": [
    "We then filter out English stopwords, which occur very regularly and may be uninformative for classification. We also filter out punctuation."
   ]
  },
  {
   "cell_type": "code",
   "execution_count": 24,
   "metadata": {},
   "outputs": [],
   "source": [
    "# # Stem words\n",
    "# from nltk.stem.porter import PorterStemmer\n",
    "\n",
    "# porter = PorterStemmer()\n",
    "# stemmed = [[porter.stem(t) for t in song] for song in tqdm(lemma_lyr2)]"
   ]
  },
  {
   "cell_type": "markdown",
   "metadata": {},
   "source": [
    "# NLP Model Feature Conversion"
   ]
  },
  {
   "cell_type": "code",
   "execution_count": 25,
   "metadata": {},
   "outputs": [
    {
     "data": {
      "text/html": [
       "<div>\n",
       "<style scoped>\n",
       "    .dataframe tbody tr th:only-of-type {\n",
       "        vertical-align: middle;\n",
       "    }\n",
       "\n",
       "    .dataframe tbody tr th {\n",
       "        vertical-align: top;\n",
       "    }\n",
       "\n",
       "    .dataframe thead th {\n",
       "        text-align: right;\n",
       "    }\n",
       "</style>\n",
       "<table border=\"1\" class=\"dataframe\">\n",
       "  <thead>\n",
       "    <tr style=\"text-align: right;\">\n",
       "      <th></th>\n",
       "      <th>artist</th>\n",
       "      <th>song_title</th>\n",
       "      <th>year</th>\n",
       "      <th>genre</th>\n",
       "      <th>lyrics</th>\n",
       "    </tr>\n",
       "  </thead>\n",
       "  <tbody>\n",
       "    <tr>\n",
       "      <th>150322</th>\n",
       "      <td>Cutting Crew</td>\n",
       "      <td>Between A  Rock And A Hard Place</td>\n",
       "      <td>1994.0</td>\n",
       "      <td>Rock</td>\n",
       "      <td>Between a rock\\nBetween a rock and a hard plac...</td>\n",
       "    </tr>\n",
       "    <tr>\n",
       "      <th>108135</th>\n",
       "      <td>Juelz Santana</td>\n",
       "      <td>Girlz</td>\n",
       "      <td>2004.0</td>\n",
       "      <td>Hip Hop</td>\n",
       "      <td>Rich girl, and you've come to far\\n'cause you ...</td>\n",
       "    </tr>\n",
       "    <tr>\n",
       "      <th>49920</th>\n",
       "      <td>Young Gunz</td>\n",
       "      <td>Girlz</td>\n",
       "      <td>2004.0</td>\n",
       "      <td>Hip Hop</td>\n",
       "      <td>Rich girl, and you've come to far\\n'cause you ...</td>\n",
       "    </tr>\n",
       "    <tr>\n",
       "      <th>145050</th>\n",
       "      <td>Andy Williams</td>\n",
       "      <td>and Roses and Roses</td>\n",
       "      <td>2002.0</td>\n",
       "      <td>Jazz</td>\n",
       "      <td>Every day I sent another present\\r\\nJust to le...</td>\n",
       "    </tr>\n",
       "    <tr>\n",
       "      <th>185287</th>\n",
       "      <td>N.W.A</td>\n",
       "      <td>tha Police</td>\n",
       "      <td>1988.0</td>\n",
       "      <td>Hip Hop</td>\n",
       "      <td>\"Right about now, N.W.A. court is in full effe...</td>\n",
       "    </tr>\n",
       "    <tr>\n",
       "      <th>...</th>\n",
       "      <td>...</td>\n",
       "      <td>...</td>\n",
       "      <td>...</td>\n",
       "      <td>...</td>\n",
       "      <td>...</td>\n",
       "    </tr>\n",
       "    <tr>\n",
       "      <th>159305</th>\n",
       "      <td>Tool</td>\n",
       "      <td>Ænema</td>\n",
       "      <td>1996.0</td>\n",
       "      <td>Rock</td>\n",
       "      <td>Some say the end is near\\nSome say we'll see A...</td>\n",
       "    </tr>\n",
       "    <tr>\n",
       "      <th>60492</th>\n",
       "      <td>La Fouine</td>\n",
       "      <td>Ça Fait Mal</td>\n",
       "      <td>2010.0</td>\n",
       "      <td>Hip Hop</td>\n",
       "      <td>Okay, this is the remix baby (remix)\\nOh oh zz...</td>\n",
       "    </tr>\n",
       "    <tr>\n",
       "      <th>55870</th>\n",
       "      <td>Camille</td>\n",
       "      <td>Çats and Dogs</td>\n",
       "      <td>2013.0</td>\n",
       "      <td>Electronic</td>\n",
       "      <td>Cats and dogs are not our friends\\nThey just p...</td>\n",
       "    </tr>\n",
       "    <tr>\n",
       "      <th>33418</th>\n",
       "      <td>Nightwish</td>\n",
       "      <td>Élan</td>\n",
       "      <td>2015.0</td>\n",
       "      <td>Rock</td>\n",
       "      <td>Leave the sleep and let the springtime talk\\nI...</td>\n",
       "    </tr>\n",
       "    <tr>\n",
       "      <th>80154</th>\n",
       "      <td>R.E.M.</td>\n",
       "      <td>Überlin</td>\n",
       "      <td>2011.0</td>\n",
       "      <td>Rock</td>\n",
       "      <td>Hey now, take your pills and\\nHey now, make yo...</td>\n",
       "    </tr>\n",
       "  </tbody>\n",
       "</table>\n",
       "<p>83716 rows × 5 columns</p>\n",
       "</div>"
      ],
      "text/plain": [
       "               artist                         song_title    year       genre  \\\n",
       "150322   Cutting Crew   Between A  Rock And A Hard Place  1994.0        Rock   \n",
       "108135  Juelz Santana                              Girlz  2004.0     Hip Hop   \n",
       "49920      Young Gunz                              Girlz  2004.0     Hip Hop   \n",
       "145050  Andy Williams                and Roses and Roses  2002.0        Jazz   \n",
       "185287          N.W.A                         tha Police  1988.0     Hip Hop   \n",
       "...               ...                                ...     ...         ...   \n",
       "159305           Tool                              Ænema  1996.0        Rock   \n",
       "60492       La Fouine                        Ça Fait Mal  2010.0     Hip Hop   \n",
       "55870         Camille                      Çats and Dogs  2013.0  Electronic   \n",
       "33418       Nightwish                               Élan  2015.0        Rock   \n",
       "80154          R.E.M.                            Überlin  2011.0        Rock   \n",
       "\n",
       "                                                   lyrics  \n",
       "150322  Between a rock\\nBetween a rock and a hard plac...  \n",
       "108135  Rich girl, and you've come to far\\n'cause you ...  \n",
       "49920   Rich girl, and you've come to far\\n'cause you ...  \n",
       "145050  Every day I sent another present\\r\\nJust to le...  \n",
       "185287  \"Right about now, N.W.A. court is in full effe...  \n",
       "...                                                   ...  \n",
       "159305  Some say the end is near\\nSome say we'll see A...  \n",
       "60492   Okay, this is the remix baby (remix)\\nOh oh zz...  \n",
       "55870   Cats and dogs are not our friends\\nThey just p...  \n",
       "33418   Leave the sleep and let the springtime talk\\nI...  \n",
       "80154   Hey now, take your pills and\\nHey now, make yo...  \n",
       "\n",
       "[83716 rows x 5 columns]"
      ]
     },
     "execution_count": 25,
     "metadata": {},
     "output_type": "execute_result"
    }
   ],
   "source": [
    "genres_en_sorted = genres_en.copy()\n",
    "genres_en_sorted['song_title'] = genres_en_sorted['song_title'].str.replace('[^\\w\\s]','')\n",
    "genres_en_sorted = genres_en_sorted.sort_values('song_title')\n",
    "genres_en_sorted"
   ]
  },
  {
   "cell_type": "code",
   "execution_count": 26,
   "metadata": {},
   "outputs": [],
   "source": [
    "from sklearn.feature_extraction.text import CountVectorizer\n",
    "vectorizer = CountVectorizer(stop_words='english',\n",
    "                            strip_accents='ascii',\n",
    "                            max_df=0.95, # ignore terms that appear in >98% of documents\n",
    "                            min_df=0.001) # ignore terms that appear in <01% of documents\n",
    "X = vectorizer.fit_transform(genres_en_sorted.lyrics)"
   ]
  },
  {
   "cell_type": "code",
   "execution_count": 27,
   "metadata": {},
   "outputs": [
    {
     "data": {
      "text/html": [
       "<div>\n",
       "<style scoped>\n",
       "    .dataframe tbody tr th:only-of-type {\n",
       "        vertical-align: middle;\n",
       "    }\n",
       "\n",
       "    .dataframe tbody tr th {\n",
       "        vertical-align: top;\n",
       "    }\n",
       "\n",
       "    .dataframe thead th {\n",
       "        text-align: right;\n",
       "    }\n",
       "</style>\n",
       "<table border=\"1\" class=\"dataframe\">\n",
       "  <thead>\n",
       "    <tr style=\"text-align: right;\">\n",
       "      <th></th>\n",
       "      <th>feature</th>\n",
       "      <th>count</th>\n",
       "    </tr>\n",
       "  </thead>\n",
       "  <tbody>\n",
       "    <tr>\n",
       "      <th>2938</th>\n",
       "      <td>love</td>\n",
       "      <td>150128</td>\n",
       "    </tr>\n",
       "    <tr>\n",
       "      <th>1419</th>\n",
       "      <td>don</td>\n",
       "      <td>125984</td>\n",
       "    </tr>\n",
       "    <tr>\n",
       "      <th>2704</th>\n",
       "      <td>know</td>\n",
       "      <td>114992</td>\n",
       "    </tr>\n",
       "    <tr>\n",
       "      <th>2841</th>\n",
       "      <td>like</td>\n",
       "      <td>113212</td>\n",
       "    </tr>\n",
       "    <tr>\n",
       "      <th>2633</th>\n",
       "      <td>just</td>\n",
       "      <td>104475</td>\n",
       "    </tr>\n",
       "    <tr>\n",
       "      <th>2111</th>\n",
       "      <td>got</td>\n",
       "      <td>94470</td>\n",
       "    </tr>\n",
       "    <tr>\n",
       "      <th>2885</th>\n",
       "      <td>ll</td>\n",
       "      <td>91931</td>\n",
       "    </tr>\n",
       "    <tr>\n",
       "      <th>3365</th>\n",
       "      <td>oh</td>\n",
       "      <td>90905</td>\n",
       "    </tr>\n",
       "    <tr>\n",
       "      <th>242</th>\n",
       "      <td>baby</td>\n",
       "      <td>71096</td>\n",
       "    </tr>\n",
       "    <tr>\n",
       "      <th>5128</th>\n",
       "      <td>time</td>\n",
       "      <td>65366</td>\n",
       "    </tr>\n",
       "  </tbody>\n",
       "</table>\n",
       "</div>"
      ],
      "text/plain": [
       "     feature   count\n",
       "2938    love  150128\n",
       "1419     don  125984\n",
       "2704    know  114992\n",
       "2841    like  113212\n",
       "2633    just  104475\n",
       "2111     got   94470\n",
       "2885      ll   91931\n",
       "3365      oh   90905\n",
       "242     baby   71096\n",
       "5128    time   65366"
      ]
     },
     "execution_count": 27,
     "metadata": {},
     "output_type": "execute_result"
    }
   ],
   "source": [
    "features = pd.DataFrame({'feature': vectorizer.get_feature_names(),\n",
    "                         'count':X.toarray().sum(axis=0)})\n",
    "features.sort_values('count', ascending=False)[:10]"
   ]
  },
  {
   "cell_type": "markdown",
   "metadata": {},
   "source": [
    "# Duplicate Detection"
   ]
  },
  {
   "cell_type": "markdown",
   "metadata": {},
   "source": [
    "Because lyrics.com is rife with covers and collaborations, we need to find and eliminate duplicate records in our lyrics database. The following class will do so (though not exhaustively). It iterates through subsets of the data finding duplicate song records defined by cosine similarity between the word vectors. It will retain the earliest version of the song amongst the detected set of duplicates. \n",
    "\n",
    "The reason for splitting the dataset into subchunks is the amount of memory required by the similarity matrix. For the full set of 85k rows, the similarity matrix requires over 50 GB of RAM. For this reason we focus on subsets. If a song has a duplicate in another chunk, this method will not find it, though we can run it iteratively in order to find additional matches. In order to maximize the number of matches found, we sort by song title, increasing the chance that similar lyrics will be in the same chunk."
   ]
  },
  {
   "cell_type": "code",
   "execution_count": 28,
   "metadata": {},
   "outputs": [],
   "source": [
    "from sklearn.metrics.pairwise import cosine_similarity\n",
    "\n",
    "class Deduplicator:\n",
    "    def __init__(self, df, matrix, threshold=0.8, increment=20000):\n",
    "        self.df = df\n",
    "        self.matrix = matrix\n",
    "        self.threshold = threshold\n",
    "        self.increment = increment\n",
    "        self.years = df.year.values\n",
    "        self.tiebreaker = np.array([])\n",
    "        self.index = np.ones(matrix.shape[0], dtype=bool)\n",
    "    \n",
    "    def make_sim_matrix(self, mat):\n",
    "        '''Make cosine similarity matrix from sparse matrix'''\n",
    "        similarity = cosine_similarity(mat.toarray())\n",
    "        np.fill_diagonal(similarity, 0)\n",
    "        self.similarity = similarity\n",
    "        \n",
    "    def check_years(self, ind1, ind2):\n",
    "        '''Compares two years and returns the indices that should be zeroed out\n",
    "           which corresponds with the later of the two years'''\n",
    "        y1, y2 = self.years[ind1], self.years[ind2]\n",
    "        if y1 == y2:\n",
    "            if ind1 in self.tiebreaker and ind2 not in self.tiebreaker:\n",
    "                return ind2\n",
    "            elif ind2 in self.tiebreaker and ind1 not in self.tiebreaker:\n",
    "                return ind1\n",
    "            else:\n",
    "                self.tiebreaker = np.append(self.tiebreaker, ind1)\n",
    "                return ind2\n",
    "        if y1 < y2:\n",
    "            return ind2\n",
    "        else:\n",
    "            return ind1\n",
    "        \n",
    "    def deduplicate(self):\n",
    "        '''iterate through chunks of the data creating similarity matrices\n",
    "           and eliminating newer versions of old songs'''\n",
    "        i = 0 # global matrix index\n",
    "        dup = []\n",
    "        mat_max = self.matrix.shape[0]\n",
    "        progress = tqdm(total=mat_max)\n",
    "        update_amt = self.increment\n",
    "        while i < mat_max:\n",
    "            if i + self.increment < mat_max:\n",
    "                self.make_sim_matrix(self.matrix[i: i + self.increment])\n",
    "            else:\n",
    "                self.make_sim_matrix(self.matrix[i: mat_max])\n",
    "                update_amt = mat_max % i\n",
    "            dup = np.where(self.similarity > self.threshold)\n",
    "            for j in range(len(dup[0])):\n",
    "                ind = self.check_years(dup[0][j], dup[1][j]) + i\n",
    "                self.index[ind] = False\n",
    "            i += self.increment\n",
    "            progress.update(update_amt)\n"
   ]
  },
  {
   "cell_type": "code",
   "execution_count": 29,
   "metadata": {},
   "outputs": [
    {
     "data": {
      "application/vnd.jupyter.widget-view+json": {
       "model_id": "b7bc8767963a44eaa86a4f95c1ae8732",
       "version_major": 2,
       "version_minor": 0
      },
      "text/plain": [
       "HBox(children=(FloatProgress(value=0.0, max=83716.0), HTML(value='')))"
      ]
     },
     "metadata": {},
     "output_type": "display_data"
    }
   ],
   "source": [
    "d = Deduplicator(df=genres_en_sorted,\n",
    "                 matrix=X,\n",
    "                 increment=20000,\n",
    "                threshold=0.7)\n",
    "\n",
    "d.deduplicate()"
   ]
  },
  {
   "cell_type": "code",
   "execution_count": 30,
   "metadata": {},
   "outputs": [
    {
     "data": {
      "text/plain": [
       "(47001, 5)"
      ]
     },
     "execution_count": 30,
     "metadata": {},
     "output_type": "execute_result"
    }
   ],
   "source": [
    "songs_no_dupes = genres_en_sorted[d.index]\n",
    "songs_no_dupes.shape"
   ]
  },
  {
   "cell_type": "markdown",
   "metadata": {},
   "source": [
    "This decreases our training set from 84,000 records to 47,000 records. This sample indicates that almost 45% of the dataset is comprised of duplicate records. This deduplication approach may also catch some edge cases, like songs with placeholder text, songs with very simple lyrics (\"lalala\"), and popular songs (which are more likely to be those tagged with a genre)."
   ]
  },
  {
   "cell_type": "code",
   "execution_count": 31,
   "metadata": {},
   "outputs": [
    {
     "data": {
      "text/plain": [
       "<matplotlib.axes._subplots.AxesSubplot at 0x14b0ede90>"
      ]
     },
     "execution_count": 31,
     "metadata": {},
     "output_type": "execute_result"
    },
    {
     "data": {
      "image/png": "[encoded data removed]",
      "text/plain": [
       "<Figure size 432x288 with 1 Axes>"
      ]
     },
     "metadata": {
      "needs_background": "light"
     },
     "output_type": "display_data"
    }
   ],
   "source": [
    "songs_no_dupes.genre.value_counts().plot.bar()"
   ]
  },
  {
   "cell_type": "code",
   "execution_count": 32,
   "metadata": {},
   "outputs": [
    {
     "data": {
      "text/plain": [
       "<matplotlib.axes._subplots.AxesSubplot at 0x14a991e50>"
      ]
     },
     "execution_count": 32,
     "metadata": {},
     "output_type": "execute_result"
    },
    {
     "data": {
      "image/png": "[encoded data removed]",
      "text/plain": [
       "<Figure size 432x288 with 1 Axes>"
      ]
     },
     "metadata": {
      "needs_background": "light"
     },
     "output_type": "display_data"
    }
   ],
   "source": [
    "genres_en_sorted.genre.value_counts().plot.bar()"
   ]
  },
  {
   "cell_type": "markdown",
   "metadata": {},
   "source": [
    "When we look at the before and after plots, we can see that Jazz and Folk were hit the hardest by the deduplication process, while the mix of Rock, Folk, and Electronic remained fairly consistent. "
   ]
  },
  {
   "cell_type": "markdown",
   "metadata": {},
   "source": [
    "# TF-IDF"
   ]
  },
  {
   "cell_type": "code",
   "execution_count": 33,
   "metadata": {},
   "outputs": [],
   "source": [
    "from sklearn.feature_extraction.text import TfidfVectorizer\n",
    "\n",
    "tfidf = TfidfVectorizer(strip_accents='ascii',\n",
    "                       ngram_range=(1,3),\n",
    "                       max_df=0.98,\n",
    "                       min_df=0.001)\n",
    "\n",
    "X_tfidf = tfidf.fit_transform(songs_no_dupes.lyrics)"
   ]
  },
  {
   "cell_type": "code",
   "execution_count": 52,
   "metadata": {
    "scrolled": true
   },
   "outputs": [],
   "source": [
    "test = X_tfidf.toarray()\n",
    "test2 = test > 0"
   ]
  },
  {
   "cell_type": "code",
   "execution_count": 68,
   "metadata": {},
   "outputs": [
    {
     "data": {
      "application/vnd.jupyter.widget-view+json": {
       "model_id": "228407debdb44c1c8cca409b6dbbadcb",
       "version_major": 2,
       "version_minor": 0
      },
      "text/plain": [
       "HBox(children=(FloatProgress(value=0.0, max=47001.0), HTML(value='')))"
      ]
     },
     "metadata": {},
     "output_type": "display_data"
    },
    {
     "ename": "KeyboardInterrupt",
     "evalue": "",
     "output_type": "error",
     "traceback": [
      "\u001b[0;31m---------------------------------------------------------------------------\u001b[0m",
      "\u001b[0;31mKeyboardInterrupt\u001b[0m                         Traceback (most recent call last)",
      "\u001b[0;32m<ipython-input-68-94801fe54da8>\u001b[0m in \u001b[0;36m<module>\u001b[0;34m\u001b[0m\n\u001b[1;32m      2\u001b[0m \u001b[0;32mfor\u001b[0m \u001b[0mi\u001b[0m \u001b[0;32min\u001b[0m \u001b[0mtqdm\u001b[0m\u001b[0;34m(\u001b[0m\u001b[0mrange\u001b[0m\u001b[0;34m(\u001b[0m\u001b[0mtest\u001b[0m\u001b[0;34m.\u001b[0m\u001b[0mshape\u001b[0m\u001b[0;34m[\u001b[0m\u001b[0;36m0\u001b[0m\u001b[0;34m]\u001b[0m\u001b[0;34m)\u001b[0m\u001b[0;34m)\u001b[0m\u001b[0;34m:\u001b[0m\u001b[0;34m\u001b[0m\u001b[0;34m\u001b[0m\u001b[0m\n\u001b[1;32m      3\u001b[0m     \u001b[0;32mfor\u001b[0m \u001b[0mj\u001b[0m \u001b[0;32min\u001b[0m \u001b[0mrange\u001b[0m\u001b[0;34m(\u001b[0m\u001b[0mtest\u001b[0m\u001b[0;34m.\u001b[0m\u001b[0mshape\u001b[0m\u001b[0;34m[\u001b[0m\u001b[0;36m1\u001b[0m\u001b[0;34m]\u001b[0m\u001b[0;34m)\u001b[0m\u001b[0;34m:\u001b[0m\u001b[0;34m\u001b[0m\u001b[0;34m\u001b[0m\u001b[0m\n\u001b[0;32m----> 4\u001b[0;31m         \u001b[0moutput\u001b[0m\u001b[0;34m[\u001b[0m\u001b[0mi\u001b[0m\u001b[0;34m,\u001b[0m\u001b[0mj\u001b[0m\u001b[0;34m]\u001b[0m \u001b[0;34m=\u001b[0m \u001b[0mnp\u001b[0m\u001b[0;34m.\u001b[0m\u001b[0mbitwise_xor\u001b[0m\u001b[0;34m(\u001b[0m\u001b[0mtest2\u001b[0m\u001b[0;34m[\u001b[0m\u001b[0mi\u001b[0m\u001b[0;34m]\u001b[0m\u001b[0;34m,\u001b[0m \u001b[0mtest2\u001b[0m\u001b[0;34m[\u001b[0m\u001b[0mj\u001b[0m\u001b[0;34m]\u001b[0m\u001b[0;34m)\u001b[0m\u001b[0;34m.\u001b[0m\u001b[0msum\u001b[0m\u001b[0;34m(\u001b[0m\u001b[0;34m)\u001b[0m\u001b[0;34m\u001b[0m\u001b[0;34m\u001b[0m\u001b[0m\n\u001b[0m",
      "\u001b[0;31mKeyboardInterrupt\u001b[0m: "
     ]
    }
   ],
   "source": [
    "output = np.zeros(test2.shape)\n",
    "for i in tqdm(range(test.shape[0])):\n",
    "    for j in range(test.shape[1]):\n",
    "        output[i,j] = np.bitwise_xor(test2[i], test2[j]).sum()"
   ]
  },
  {
   "cell_type": "code",
   "execution_count": 67,
   "metadata": {},
   "outputs": [],
   "source": [
    "import multiprocessing\n",
    "\n",
    "pool = multiprocessing.Pool(4)\n"
   ]
  },
  {
   "cell_type": "markdown",
   "metadata": {},
   "source": [
    "# Bit array duplicate detection"
   ]
  },
  {
   "cell_type": "code",
   "execution_count": 38,
   "metadata": {},
   "outputs": [
    {
     "data": {
      "text/plain": [
       "(83716, 5723)"
      ]
     },
     "execution_count": 38,
     "metadata": {},
     "output_type": "execute_result"
    }
   ],
   "source": [
    "X.toarray().shape"
   ]
  },
  {
   "cell_type": "markdown",
   "metadata": {},
   "source": [
    "# Save output files"
   ]
  },
  {
   "cell_type": "code",
   "execution_count": 35,
   "metadata": {},
   "outputs": [],
   "source": [
    "save_path = '../data/processed/'\n",
    "import pickle\n",
    "pickle.dump(genres, open(save_path + 'lyric_genres.pickle', 'wb'))\n",
    "pickle.dump(data, open(save_path + 'lyric_full.pickle', 'wb'))"
   ]
  },
  {
   "cell_type": "code",
   "execution_count": 36,
   "metadata": {},
   "outputs": [],
   "source": [
    "pickle.dump(songs_no_dupes, open(save_path + 'songs_no_dupes.pickle', 'wb'))"
   ]
  },
  {
   "cell_type": "code",
   "execution_count": null,
   "metadata": {},
   "outputs": [],
   "source": []
  },
  {
   "cell_type": "code",
   "execution_count": null,
   "metadata": {},
   "outputs": [],
   "source": []
  }
 ],
 "metadata": {
  "kernelspec": {
   "display_name": "Python 3",
   "language": "python",
   "name": "python3"
  },
  "language_info": {
   "codemirror_mode": {
    "name": "ipython",
    "version": 3
   },
   "file_extension": ".py",
   "mimetype": "text/x-python",
   "name": "python",
   "nbconvert_exporter": "python",
   "pygments_lexer": "ipython3",
   "version": "3.8.4"
  }
 },
 "nbformat": 4,
 "nbformat_minor": 2
}
